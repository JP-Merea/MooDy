{
 "cells": [
  {
   "cell_type": "code",
   "execution_count": 1,
   "id": "2fef5ebd",
   "metadata": {},
   "outputs": [],
   "source": [
    "import numpy as np\n",
    "from tensorflow.keras.models import load_model\n",
    "from tensorflow.keras.preprocessing.sequence import pad_sequences "
   ]
  },
  {
   "cell_type": "code",
   "execution_count": 6,
   "id": "84abae07",
   "metadata": {},
   "outputs": [
    {
     "name": "stdout",
     "output_type": "stream",
     "text": [
      "WARNING:tensorflow:5 out of the last 5 calls to <function Model.make_predict_function.<locals>.predict_function at 0x14f7ad430> triggered tf.function retracing. Tracing is expensive and the excessive number of tracings could be due to (1) creating @tf.function repeatedly in a loop, (2) passing tensors with different shapes, (3) passing Python objects instead of tensors. For (1), please define your @tf.function outside of the loop. For (2), @tf.function has experimental_relax_shapes=True option that relaxes argument shapes that can avoid unnecessary retracing. For (3), please refer to https://www.tensorflow.org/guide/function#controlling_retracing and https://www.tensorflow.org/api_docs/python/tf/function for  more details.\n",
      "0.46818766\n",
      "0.53181237\n"
     ]
    }
   ],
   "source": [
    "filepath = '../streamlit/gru_model.h5'\n",
    "x= []\n",
    "if __name__ == '__main__':\n",
    "    model = load_model (filepath, custom_objects=None, compile=True, options=None)\n",
    "    X = np.array([[0.164680]])\n",
    "    X_test_pad = pad_sequences(X, value=-1000., dtype=float, padding='post', maxlen=30)\n",
    "    result = model.predict(X_test_pad)\n",
    "    print(result[0][0][0])\n",
    "    print(result[0][0][1])"
   ]
  },
  {
   "cell_type": "code",
   "execution_count": 7,
   "id": "db87b77b",
   "metadata": {},
   "outputs": [
    {
     "name": "stdout",
     "output_type": "stream",
     "text": [
      "[]\n"
     ]
    }
   ],
   "source": [
    "print(x)"
   ]
  },
  {
   "cell_type": "code",
   "execution_count": 12,
   "id": "b96567b6",
   "metadata": {},
   "outputs": [],
   "source": [
    "import pandas as pd\n",
    "import seaborn as sns"
   ]
  },
  {
   "cell_type": "code",
   "execution_count": 25,
   "id": "6bbb9c3e",
   "metadata": {},
   "outputs": [
    {
     "name": "stdout",
     "output_type": "stream",
     "text": [
      "           a         b\n",
      "0  -0.594190 -1.073222\n",
      "1   0.254329  1.001664\n",
      "2   0.162298 -0.048049\n",
      "3   0.805648 -1.926028\n",
      "4   0.744520  0.739483\n",
      "5  -0.096330 -1.153696\n",
      "6  -0.952431  0.152237\n",
      "7  -0.387042  0.971820\n",
      "8   2.703442 -0.201768\n",
      "9   0.964558  0.201549\n",
      "10 -0.425207  1.085763\n",
      "11 -0.276872 -0.923062\n",
      "12 -0.946268 -0.539624\n",
      "13  0.275494 -0.507740\n",
      "14  0.365550  0.878419\n",
      "15 -0.547687 -1.820564\n",
      "16  0.103201 -0.901895\n",
      "17 -1.013687  0.999533\n",
      "18  0.932203  0.370923\n",
      "19  1.140338 -0.001006\n"
     ]
    }
   ],
   "source": [
    "def get_line_chart_data():\n",
    "    print(pd.DataFrame(np.random.randn(20, 2), columns=['a', 'b']))\n",
    "            \n",
    "df = get_line_chart_data()"
   ]
  },
  {
   "cell_type": "code",
   "execution_count": 13,
   "id": "07538ddb",
   "metadata": {},
   "outputs": [
    {
     "ename": "AttributeError",
     "evalue": "module 'seaborn' has no attribute 'df'",
     "output_type": "error",
     "traceback": [
      "\u001b[0;31m---------------------------------------------------------------------------\u001b[0m",
      "\u001b[0;31mAttributeError\u001b[0m                            Traceback (most recent call last)",
      "\u001b[0;32m/var/folders/9t/4q21kp8s6vb49kb4fvt2l39h0000gn/T/ipykernel_18597/411468098.py\u001b[0m in \u001b[0;36m<module>\u001b[0;34m\u001b[0m\n\u001b[0;32m----> 1\u001b[0;31m \u001b[0msns\u001b[0m\u001b[0;34m.\u001b[0m\u001b[0mdf\u001b[0m\u001b[0;34m\u001b[0m\u001b[0;34m\u001b[0m\u001b[0m\n\u001b[0m",
      "\u001b[0;31mAttributeError\u001b[0m: module 'seaborn' has no attribute 'df'"
     ]
    }
   ],
   "source": []
  },
  {
   "cell_type": "code",
   "execution_count": null,
   "id": "63a1f5d7",
   "metadata": {},
   "outputs": [],
   "source": []
  }
 ],
 "metadata": {
  "kernelspec": {
   "display_name": "Python 3 (ipykernel)",
   "language": "python",
   "name": "python3"
  },
  "language_info": {
   "codemirror_mode": {
    "name": "ipython",
    "version": 3
   },
   "file_extension": ".py",
   "mimetype": "text/x-python",
   "name": "python",
   "nbconvert_exporter": "python",
   "pygments_lexer": "ipython3",
   "version": "3.8.6"
  },
  "toc": {
   "base_numbering": 1,
   "nav_menu": {},
   "number_sections": true,
   "sideBar": true,
   "skip_h1_title": false,
   "title_cell": "Table of Contents",
   "title_sidebar": "Contents",
   "toc_cell": false,
   "toc_position": {},
   "toc_section_display": true,
   "toc_window_display": false
  }
 },
 "nbformat": 4,
 "nbformat_minor": 5
}
