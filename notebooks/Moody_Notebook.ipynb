{
  "nbformat": 4,
  "nbformat_minor": 0,
  "metadata": {
    "colab": {
      "name": "Moody Notebook",
      "provenance": [],
      "collapsed_sections": []
    },
    "kernelspec": {
      "name": "python3",
      "display_name": "Python 3"
    },
    "language_info": {
      "name": "python"
    },
    "accelerator": "GPU",
    "widgets": {
      "application/vnd.jupyter.widget-state+json": {
        "72563d311a074f1c9c72818680b22b07": {
          "model_module": "@jupyter-widgets/controls",
          "model_name": "HBoxModel",
          "model_module_version": "1.5.0",
          "state": {
            "_view_name": "HBoxView",
            "_dom_classes": [],
            "_model_name": "HBoxModel",
            "_view_module": "@jupyter-widgets/controls",
            "_model_module_version": "1.5.0",
            "_view_count": null,
            "_view_module_version": "1.5.0",
            "box_style": "",
            "layout": "IPY_MODEL_addb97a750d24e30936b3d0dbb35d2e1",
            "_model_module": "@jupyter-widgets/controls",
            "children": [
              "IPY_MODEL_20448dc27e2346be820fb80eaeb08755",
              "IPY_MODEL_5f8700f3f6704c36aaf02ba38fc15da0",
              "IPY_MODEL_c7efa82edc924bd093b03fa101359b4a"
            ]
          }
        },
        "addb97a750d24e30936b3d0dbb35d2e1": {
          "model_module": "@jupyter-widgets/base",
          "model_name": "LayoutModel",
          "model_module_version": "1.2.0",
          "state": {
            "_view_name": "LayoutView",
            "grid_template_rows": null,
            "right": null,
            "justify_content": null,
            "_view_module": "@jupyter-widgets/base",
            "overflow": null,
            "_model_module_version": "1.2.0",
            "_view_count": null,
            "flex_flow": null,
            "width": null,
            "min_width": null,
            "border": null,
            "align_items": null,
            "bottom": null,
            "_model_module": "@jupyter-widgets/base",
            "top": null,
            "grid_column": null,
            "overflow_y": null,
            "overflow_x": null,
            "grid_auto_flow": null,
            "grid_area": null,
            "grid_template_columns": null,
            "flex": null,
            "_model_name": "LayoutModel",
            "justify_items": null,
            "grid_row": null,
            "max_height": null,
            "align_content": null,
            "visibility": null,
            "align_self": null,
            "height": null,
            "min_height": null,
            "padding": null,
            "grid_auto_rows": null,
            "grid_gap": null,
            "max_width": null,
            "order": null,
            "_view_module_version": "1.2.0",
            "grid_template_areas": null,
            "object_position": null,
            "object_fit": null,
            "grid_auto_columns": null,
            "margin": null,
            "display": null,
            "left": null
          }
        },
        "20448dc27e2346be820fb80eaeb08755": {
          "model_module": "@jupyter-widgets/controls",
          "model_name": "HTMLModel",
          "model_module_version": "1.5.0",
          "state": {
            "_view_name": "HTMLView",
            "style": "IPY_MODEL_f2889aa144e5410da2c209b3100f0cbb",
            "_dom_classes": [],
            "description": "",
            "_model_name": "HTMLModel",
            "placeholder": "​",
            "_view_module": "@jupyter-widgets/controls",
            "_model_module_version": "1.5.0",
            "value": "100%",
            "_view_count": null,
            "_view_module_version": "1.5.0",
            "description_tooltip": null,
            "_model_module": "@jupyter-widgets/controls",
            "layout": "IPY_MODEL_ea7da04b61d6494583893fc3852128cb"
          }
        },
        "5f8700f3f6704c36aaf02ba38fc15da0": {
          "model_module": "@jupyter-widgets/controls",
          "model_name": "FloatProgressModel",
          "model_module_version": "1.5.0",
          "state": {
            "_view_name": "ProgressView",
            "style": "IPY_MODEL_ebee1a09e79743a18a690a882ec11243",
            "_dom_classes": [],
            "description": "",
            "_model_name": "FloatProgressModel",
            "bar_style": "success",
            "max": 200,
            "_view_module": "@jupyter-widgets/controls",
            "_model_module_version": "1.5.0",
            "value": 200,
            "_view_count": null,
            "_view_module_version": "1.5.0",
            "orientation": "horizontal",
            "min": 0,
            "description_tooltip": null,
            "_model_module": "@jupyter-widgets/controls",
            "layout": "IPY_MODEL_ec6491b9ae8d455a90b95cc566ca4cfe"
          }
        },
        "c7efa82edc924bd093b03fa101359b4a": {
          "model_module": "@jupyter-widgets/controls",
          "model_name": "HTMLModel",
          "model_module_version": "1.5.0",
          "state": {
            "_view_name": "HTMLView",
            "style": "IPY_MODEL_395085a8abf04567a2bf4760d2d8108f",
            "_dom_classes": [],
            "description": "",
            "_model_name": "HTMLModel",
            "placeholder": "​",
            "_view_module": "@jupyter-widgets/controls",
            "_model_module_version": "1.5.0",
            "value": " 200/200 [01:23&lt;00:00,  2.41it/s]",
            "_view_count": null,
            "_view_module_version": "1.5.0",
            "description_tooltip": null,
            "_model_module": "@jupyter-widgets/controls",
            "layout": "IPY_MODEL_89f3b7ff20014bc28ee789fd12ca36a6"
          }
        },
        "f2889aa144e5410da2c209b3100f0cbb": {
          "model_module": "@jupyter-widgets/controls",
          "model_name": "DescriptionStyleModel",
          "model_module_version": "1.5.0",
          "state": {
            "_view_name": "StyleView",
            "_model_name": "DescriptionStyleModel",
            "description_width": "",
            "_view_module": "@jupyter-widgets/base",
            "_model_module_version": "1.5.0",
            "_view_count": null,
            "_view_module_version": "1.2.0",
            "_model_module": "@jupyter-widgets/controls"
          }
        },
        "ea7da04b61d6494583893fc3852128cb": {
          "model_module": "@jupyter-widgets/base",
          "model_name": "LayoutModel",
          "model_module_version": "1.2.0",
          "state": {
            "_view_name": "LayoutView",
            "grid_template_rows": null,
            "right": null,
            "justify_content": null,
            "_view_module": "@jupyter-widgets/base",
            "overflow": null,
            "_model_module_version": "1.2.0",
            "_view_count": null,
            "flex_flow": null,
            "width": null,
            "min_width": null,
            "border": null,
            "align_items": null,
            "bottom": null,
            "_model_module": "@jupyter-widgets/base",
            "top": null,
            "grid_column": null,
            "overflow_y": null,
            "overflow_x": null,
            "grid_auto_flow": null,
            "grid_area": null,
            "grid_template_columns": null,
            "flex": null,
            "_model_name": "LayoutModel",
            "justify_items": null,
            "grid_row": null,
            "max_height": null,
            "align_content": null,
            "visibility": null,
            "align_self": null,
            "height": null,
            "min_height": null,
            "padding": null,
            "grid_auto_rows": null,
            "grid_gap": null,
            "max_width": null,
            "order": null,
            "_view_module_version": "1.2.0",
            "grid_template_areas": null,
            "object_position": null,
            "object_fit": null,
            "grid_auto_columns": null,
            "margin": null,
            "display": null,
            "left": null
          }
        },
        "ebee1a09e79743a18a690a882ec11243": {
          "model_module": "@jupyter-widgets/controls",
          "model_name": "ProgressStyleModel",
          "model_module_version": "1.5.0",
          "state": {
            "_view_name": "StyleView",
            "_model_name": "ProgressStyleModel",
            "description_width": "",
            "_view_module": "@jupyter-widgets/base",
            "_model_module_version": "1.5.0",
            "_view_count": null,
            "_view_module_version": "1.2.0",
            "bar_color": null,
            "_model_module": "@jupyter-widgets/controls"
          }
        },
        "ec6491b9ae8d455a90b95cc566ca4cfe": {
          "model_module": "@jupyter-widgets/base",
          "model_name": "LayoutModel",
          "model_module_version": "1.2.0",
          "state": {
            "_view_name": "LayoutView",
            "grid_template_rows": null,
            "right": null,
            "justify_content": null,
            "_view_module": "@jupyter-widgets/base",
            "overflow": null,
            "_model_module_version": "1.2.0",
            "_view_count": null,
            "flex_flow": null,
            "width": null,
            "min_width": null,
            "border": null,
            "align_items": null,
            "bottom": null,
            "_model_module": "@jupyter-widgets/base",
            "top": null,
            "grid_column": null,
            "overflow_y": null,
            "overflow_x": null,
            "grid_auto_flow": null,
            "grid_area": null,
            "grid_template_columns": null,
            "flex": null,
            "_model_name": "LayoutModel",
            "justify_items": null,
            "grid_row": null,
            "max_height": null,
            "align_content": null,
            "visibility": null,
            "align_self": null,
            "height": null,
            "min_height": null,
            "padding": null,
            "grid_auto_rows": null,
            "grid_gap": null,
            "max_width": null,
            "order": null,
            "_view_module_version": "1.2.0",
            "grid_template_areas": null,
            "object_position": null,
            "object_fit": null,
            "grid_auto_columns": null,
            "margin": null,
            "display": null,
            "left": null
          }
        },
        "395085a8abf04567a2bf4760d2d8108f": {
          "model_module": "@jupyter-widgets/controls",
          "model_name": "DescriptionStyleModel",
          "model_module_version": "1.5.0",
          "state": {
            "_view_name": "StyleView",
            "_model_name": "DescriptionStyleModel",
            "description_width": "",
            "_view_module": "@jupyter-widgets/base",
            "_model_module_version": "1.5.0",
            "_view_count": null,
            "_view_module_version": "1.2.0",
            "_model_module": "@jupyter-widgets/controls"
          }
        },
        "89f3b7ff20014bc28ee789fd12ca36a6": {
          "model_module": "@jupyter-widgets/base",
          "model_name": "LayoutModel",
          "model_module_version": "1.2.0",
          "state": {
            "_view_name": "LayoutView",
            "grid_template_rows": null,
            "right": null,
            "justify_content": null,
            "_view_module": "@jupyter-widgets/base",
            "overflow": null,
            "_model_module_version": "1.2.0",
            "_view_count": null,
            "flex_flow": null,
            "width": null,
            "min_width": null,
            "border": null,
            "align_items": null,
            "bottom": null,
            "_model_module": "@jupyter-widgets/base",
            "top": null,
            "grid_column": null,
            "overflow_y": null,
            "overflow_x": null,
            "grid_auto_flow": null,
            "grid_area": null,
            "grid_template_columns": null,
            "flex": null,
            "_model_name": "LayoutModel",
            "justify_items": null,
            "grid_row": null,
            "max_height": null,
            "align_content": null,
            "visibility": null,
            "align_self": null,
            "height": null,
            "min_height": null,
            "padding": null,
            "grid_auto_rows": null,
            "grid_gap": null,
            "max_width": null,
            "order": null,
            "_view_module_version": "1.2.0",
            "grid_template_areas": null,
            "object_position": null,
            "object_fit": null,
            "grid_auto_columns": null,
            "margin": null,
            "display": null,
            "left": null
          }
        }
      }
    }
  },
  "cells": [
    {
      "cell_type": "code",
      "metadata": {
        "colab": {
          "base_uri": "https://localhost:8080/",
          "height": 35
        },
        "id": "9oc1tvTb4NK5",
        "outputId": "e7a44436-6a18-490c-dba5-15870bd38ae1"
      },
      "source": [
        "pwd"
      ],
      "execution_count": null,
      "outputs": [
        {
          "output_type": "execute_result",
          "data": {
            "application/vnd.google.colaboratory.intrinsic+json": {
              "type": "string"
            },
            "text/plain": [
              "'/content'"
            ]
          },
          "metadata": {},
          "execution_count": 1
        }
      ]
    },
    {
      "cell_type": "code",
      "metadata": {
        "colab": {
          "base_uri": "https://localhost:8080/"
        },
        "id": "HtjAd_8y3lNd",
        "outputId": "e1bf43b6-bdcd-4ec7-d22c-ef03b0936551"
      },
      "source": [
        "from google.colab import drive\n",
        "drive.mount('/content/drive/')"
      ],
      "execution_count": null,
      "outputs": [
        {
          "output_type": "stream",
          "name": "stdout",
          "text": [
            "Mounted at /content/drive/\n"
          ]
        }
      ]
    },
    {
      "cell_type": "code",
      "metadata": {
        "id": "IcIcFRpG4Aev"
      },
      "source": [
        "import pandas as pd\n",
        "df = pd.read_csv('/content/drive/MyDrive/labeled_tweets.csv')"
      ],
      "execution_count": null,
      "outputs": []
    },
    {
      "cell_type": "code",
      "metadata": {
        "id": "vVHcvFYWMYvT"
      },
      "source": [
        "blue = pd.read_csv('/content/drive/MyDrive/dolar_blue_fut.csv')"
      ],
      "execution_count": null,
      "outputs": []
    },
    {
      "cell_type": "code",
      "metadata": {
        "id": "Ztn8Za-_yW-p"
      },
      "source": [
        "features = pd.read_csv('/content/drive/MyDrive/features.csv')"
      ],
      "execution_count": null,
      "outputs": []
    },
    {
      "cell_type": "code",
      "metadata": {
        "colab": {
          "base_uri": "https://localhost:8080/",
          "height": 405
        },
        "id": "nqCoqtog2Tce",
        "outputId": "30d31bf7-dfba-4095-cf9a-95e2df677f16"
      },
      "source": [
        "import seaborn as sns\n",
        "sns.heatmap(features.corr())"
      ],
      "execution_count": null,
      "outputs": [
        {
          "output_type": "execute_result",
          "data": {
            "text/plain": [
              "<matplotlib.axes._subplots.AxesSubplot at 0x7f373df83690>"
            ]
          },
          "metadata": {},
          "execution_count": 6
        },
        {
          "output_type": "display_data",
          "data": {
            "image/png": "[encoded data removed]",
            "text/plain": [
              "<Figure size 432x288 with 2 Axes>"
            ]
          },
          "metadata": {
            "needs_background": "light"
          }
        }
      ]
    },
    {
      "cell_type": "code",
      "metadata": {
        "id": "wrKpNZ75LaAQ"
      },
      "source": [
        "#Convertir fechas desde object a datetimes\n",
        "blue['fecha'] = pd.to_datetime(blue['fecha'])\n",
        "df['created_at'] = pd.to_datetime(df['created_at'])"
      ],
      "execution_count": null,
      "outputs": []
    },
    {
      "cell_type": "code",
      "metadata": {
        "id": "L1o5lR4aPhJ_"
      },
      "source": [
        "df = df[df.created_at != 'created_at']"
      ],
      "execution_count": null,
      "outputs": []
    },
    {
      "cell_type": "code",
      "metadata": {
        "id": "tsSf4cLcREoT"
      },
      "source": [
        "#Cruzar tweeters con información del dolar\n",
        "df_blue = df.merge(blue, left_on='created_at', right_on='fecha', how='outer')"
      ],
      "execution_count": null,
      "outputs": []
    },
    {
      "cell_type": "code",
      "metadata": {
        "colab": {
          "base_uri": "https://localhost:8080/"
        },
        "id": "YjIMxMYIV3FD",
        "outputId": "3188e659-76d5-443f-a350-cc15de584105"
      },
      "source": [
        "#Eliminar las fechas sin tweeters\n",
        "df_blue.dropna(subset = ['created_at'], inplace=True)\n",
        "print(df_blue.shape)"
      ],
      "execution_count": null,
      "outputs": [
        {
          "output_type": "stream",
          "name": "stdout",
          "text": [
            "(1093773, 52)\n"
          ]
        }
      ]
    },
    {
      "cell_type": "code",
      "metadata": {
        "id": "0AZDc1bg4qjK",
        "colab": {
          "base_uri": "https://localhost:8080/"
        },
        "outputId": "8303f2cf-1c2e-42ce-d147-98c0982dad4f"
      },
      "source": [
        "#Eliminar filas duplicadas\n",
        "df_blue = df_blue.drop_duplicates()\n",
        "print(df_blue.shape)"
      ],
      "execution_count": null,
      "outputs": [
        {
          "output_type": "stream",
          "name": "stdout",
          "text": [
            "(1093773, 52)\n"
          ]
        }
      ]
    },
    {
      "cell_type": "code",
      "metadata": {
        "id": "fPSPd0oFsIn2"
      },
      "source": [
        "def merge_fechas(df1, df2, criteria = 'forward'):\n",
        "  df3 = df1.merge(df2, left_on='created_at', right_on='fecha', how='outer')\n",
        "  df3.dropna(subset = ['created_at'], inplace=True)\n",
        "  df3 = df3.sort_values(by=\"created_at\")\n",
        "  if criteria == 'forward':\n",
        "    df3[['bid','ask']] = df3[['bid','ask']].fillna(method=\"ffill\")\n",
        "    df3[['bid','ask']] = df3[['bid','ask']].fillna(method=\"bfill\")\n",
        "  if criteria == 'drop':\n",
        "    df3.dropna(subset = ['fut_bid'], inplace=True)"
      ],
      "execution_count": null,
      "outputs": []
    },
    {
      "cell_type": "code",
      "metadata": {
        "colab": {
          "base_uri": "https://localhost:8080/",
          "height": 298
        },
        "id": "gG7bSAaOuTAn",
        "outputId": "cca9c324-d362-4c58-9a19-3a8c845e8108"
      },
      "source": [
        "df_blue = df_blue.sort_values(by=\"created_at\")\n",
        "df_blue.head(3)"
      ],
      "execution_count": null,
      "outputs": [
        {
          "output_type": "execute_result",
          "data": {
            "text/html": [
              "<div>\n",
              "<style scoped>\n",
              "    .dataframe tbody tr th:only-of-type {\n",
              "        vertical-align: middle;\n",
              "    }\n",
              "\n",
              "    .dataframe tbody tr th {\n",
              "        vertical-align: top;\n",
              "    }\n",
              "\n",
              "    .dataframe thead th {\n",
              "        text-align: right;\n",
              "    }\n",
              "</style>\n",
              "<table border=\"1\" class=\"dataframe\">\n",
              "  <thead>\n",
              "    <tr style=\"text-align: right;\">\n",
              "      <th></th>\n",
              "      <th>Unnamed: 0_x</th>\n",
              "      <th>Unnamed: 0.1</th>\n",
              "      <th>coordinates</th>\n",
              "      <th>created_at</th>\n",
              "      <th>hashtags</th>\n",
              "      <th>media</th>\n",
              "      <th>urls</th>\n",
              "      <th>favorite_count</th>\n",
              "      <th>id</th>\n",
              "      <th>in_reply_to_screen_name</th>\n",
              "      <th>in_reply_to_status_id</th>\n",
              "      <th>in_reply_to_user_id</th>\n",
              "      <th>lang</th>\n",
              "      <th>place</th>\n",
              "      <th>possibly_sensitive</th>\n",
              "      <th>quote_id</th>\n",
              "      <th>retweet_count</th>\n",
              "      <th>retweet_id</th>\n",
              "      <th>retweet_screen_name</th>\n",
              "      <th>source</th>\n",
              "      <th>text</th>\n",
              "      <th>tweet_url</th>\n",
              "      <th>user_created_at</th>\n",
              "      <th>user_id</th>\n",
              "      <th>user_default_profile_image</th>\n",
              "      <th>user_description</th>\n",
              "      <th>user_favourites_count</th>\n",
              "      <th>user_followers_count</th>\n",
              "      <th>user_friends_count</th>\n",
              "      <th>user_listed_count</th>\n",
              "      <th>user_location</th>\n",
              "      <th>user_name</th>\n",
              "      <th>user_screen_name</th>\n",
              "      <th>user_statuses_count</th>\n",
              "      <th>user_time_zone</th>\n",
              "      <th>user_urls</th>\n",
              "      <th>user_verified</th>\n",
              "      <th>Probas</th>\n",
              "      <th>Most_Prob</th>\n",
              "      <th>NEG</th>\n",
              "      <th>POS</th>\n",
              "      <th>NEU</th>\n",
              "      <th>Unnamed: 0_y</th>\n",
              "      <th>fecha</th>\n",
              "      <th>bid</th>\n",
              "      <th>ask</th>\n",
              "      <th>dif_ask</th>\n",
              "      <th>dif_bid</th>\n",
              "      <th>perc_ask</th>\n",
              "      <th>perc_bid</th>\n",
              "      <th>fut_ask</th>\n",
              "      <th>fut_bid</th>\n",
              "    </tr>\n",
              "  </thead>\n",
              "  <tbody>\n",
              "    <tr>\n",
              "      <th>4879</th>\n",
              "      <td>2709.0</td>\n",
              "      <td>2710.0</td>\n",
              "      <td>NaN</td>\n",
              "      <td>2020-04-25</td>\n",
              "      <td>coronavirus cuarentena Aislamiento QuedateEnCa...</td>\n",
              "      <td>https://twitter.com/evaquijano/status/12538873...</td>\n",
              "      <td>NaN</td>\n",
              "      <td>3.0</td>\n",
              "      <td>1.253887e+18</td>\n",
              "      <td>NaN</td>\n",
              "      <td>NaN</td>\n",
              "      <td>NaN</td>\n",
              "      <td>es</td>\n",
              "      <td>NaN</td>\n",
              "      <td>False</td>\n",
              "      <td>NaN</td>\n",
              "      <td>0.0</td>\n",
              "      <td>NaN</td>\n",
              "      <td>NaN</td>\n",
              "      <td>&lt;a href=\"http://twitter.com/download/android\" ...</td>\n",
              "      <td>en la 🍐, vos sabés que sí\\n\\n#coronavirus\\n#cu...</td>\n",
              "      <td>https://twitter.com/evaquijano/status/12538873...</td>\n",
              "      <td>Sun Dec 11 20:30:05 +0000 2011</td>\n",
              "      <td>434403911.0</td>\n",
              "      <td>False</td>\n",
              "      <td>💚 Lic. en Comunicación Social\\n💜 Estudianta de...</td>\n",
              "      <td>11632.0</td>\n",
              "      <td>1809.0</td>\n",
              "      <td>876.0</td>\n",
              "      <td>8.0</td>\n",
              "      <td>La Plata-Bs As-Argentina</td>\n",
              "      <td>Eva Quijano</td>\n",
              "      <td>evaquijano</td>\n",
              "      <td>13437.0</td>\n",
              "      <td>NaN</td>\n",
              "      <td>NaN</td>\n",
              "      <td>False</td>\n",
              "      <td>SentimentOutput(output=NEU, probas={NEU: 0.999...</td>\n",
              "      <td>NEU</td>\n",
              "      <td>0.001</td>\n",
              "      <td>0.001</td>\n",
              "      <td>0.999</td>\n",
              "      <td>NaN</td>\n",
              "      <td>NaT</td>\n",
              "      <td>NaN</td>\n",
              "      <td>NaN</td>\n",
              "      <td>NaN</td>\n",
              "      <td>NaN</td>\n",
              "      <td>NaN</td>\n",
              "      <td>NaN</td>\n",
              "      <td>NaN</td>\n",
              "      <td>NaN</td>\n",
              "    </tr>\n",
              "    <tr>\n",
              "      <th>5767</th>\n",
              "      <td>3597.0</td>\n",
              "      <td>3598.0</td>\n",
              "      <td>NaN</td>\n",
              "      <td>2020-04-25</td>\n",
              "      <td>CoronavirusEnArgentina Covid_19</td>\n",
              "      <td>NaN</td>\n",
              "      <td>https://bit.ly/3bDgKGS https://spoti.fi/2Y4Tux...</td>\n",
              "      <td>7.0</td>\n",
              "      <td>1.254077e+18</td>\n",
              "      <td>NaN</td>\n",
              "      <td>NaN</td>\n",
              "      <td>NaN</td>\n",
              "      <td>es</td>\n",
              "      <td>NaN</td>\n",
              "      <td>False</td>\n",
              "      <td>NaN</td>\n",
              "      <td>5.0</td>\n",
              "      <td>NaN</td>\n",
              "      <td>NaN</td>\n",
              "      <td>&lt;a href=\"https://mobile.twitter.com\" rel=\"nofo...</td>\n",
              "      <td>Escucha la columna de este viernes de nuestro ...</td>\n",
              "      <td>https://twitter.com/Razonyre/status/1254076716...</td>\n",
              "      <td>Thu Nov 11 00:40:23 +0000 2010</td>\n",
              "      <td>214275191.0</td>\n",
              "      <td>False</td>\n",
              "      <td>Organización socialista. Queremos expropiar la...</td>\n",
              "      <td>1147.0</td>\n",
              "      <td>2236.0</td>\n",
              "      <td>1455.0</td>\n",
              "      <td>14.0</td>\n",
              "      <td>Argentina Prensa 11 5869-2726</td>\n",
              "      <td>Razón y Revolución</td>\n",
              "      <td>Razonyre</td>\n",
              "      <td>5989.0</td>\n",
              "      <td>NaN</td>\n",
              "      <td>http://www.razonyrevolucion.org</td>\n",
              "      <td>False</td>\n",
              "      <td>SentimentOutput(output=POS, probas={POS: 0.550...</td>\n",
              "      <td>POS</td>\n",
              "      <td>0.011</td>\n",
              "      <td>0.550</td>\n",
              "      <td>0.438</td>\n",
              "      <td>NaN</td>\n",
              "      <td>NaT</td>\n",
              "      <td>NaN</td>\n",
              "      <td>NaN</td>\n",
              "      <td>NaN</td>\n",
              "      <td>NaN</td>\n",
              "      <td>NaN</td>\n",
              "      <td>NaN</td>\n",
              "      <td>NaN</td>\n",
              "      <td>NaN</td>\n",
              "    </tr>\n",
              "    <tr>\n",
              "      <th>5766</th>\n",
              "      <td>3596.0</td>\n",
              "      <td>3597.0</td>\n",
              "      <td>NaN</td>\n",
              "      <td>2020-04-25</td>\n",
              "      <td>NaN</td>\n",
              "      <td>NaN</td>\n",
              "      <td>https://twitter.com/PGSMurray/status/125404409...</td>\n",
              "      <td>6.0</td>\n",
              "      <td>1.254077e+18</td>\n",
              "      <td>NaN</td>\n",
              "      <td>NaN</td>\n",
              "      <td>NaN</td>\n",
              "      <td>es</td>\n",
              "      <td>NaN</td>\n",
              "      <td>False</td>\n",
              "      <td>1.254044e+18</td>\n",
              "      <td>2.0</td>\n",
              "      <td>NaN</td>\n",
              "      <td>NaN</td>\n",
              "      <td>&lt;a href=\"http://twitter.com/download/iphone\" r...</td>\n",
              "      <td>La industria del dildo también podría jugar un...</td>\n",
              "      <td>https://twitter.com/PackFestichola/status/1254...</td>\n",
              "      <td>Sun Jan 31 04:55:21 +0000 2010</td>\n",
              "      <td>110050189.0</td>\n",
              "      <td>False</td>\n",
              "      <td>En el horóscopo uruguayo soy vaso de requesón</td>\n",
              "      <td>107704.0</td>\n",
              "      <td>1113.0</td>\n",
              "      <td>507.0</td>\n",
              "      <td>3.0</td>\n",
              "      <td>Uruguay</td>\n",
              "      <td>Industria Uruguaya</td>\n",
              "      <td>PackFestichola</td>\n",
              "      <td>27376.0</td>\n",
              "      <td>NaN</td>\n",
              "      <td>NaN</td>\n",
              "      <td>False</td>\n",
              "      <td>SentimentOutput(output=NEU, probas={NEU: 0.988...</td>\n",
              "      <td>NEU</td>\n",
              "      <td>0.002</td>\n",
              "      <td>0.009</td>\n",
              "      <td>0.988</td>\n",
              "      <td>NaN</td>\n",
              "      <td>NaT</td>\n",
              "      <td>NaN</td>\n",
              "      <td>NaN</td>\n",
              "      <td>NaN</td>\n",
              "      <td>NaN</td>\n",
              "      <td>NaN</td>\n",
              "      <td>NaN</td>\n",
              "      <td>NaN</td>\n",
              "      <td>NaN</td>\n",
              "    </tr>\n",
              "  </tbody>\n",
              "</table>\n",
              "</div>"
            ],
            "text/plain": [
              "      Unnamed: 0_x  Unnamed: 0.1 coordinates  ... perc_bid fut_ask fut_bid\n",
              "4879        2709.0        2710.0         NaN  ...      NaN     NaN     NaN\n",
              "5767        3597.0        3598.0         NaN  ...      NaN     NaN     NaN\n",
              "5766        3596.0        3597.0         NaN  ...      NaN     NaN     NaN\n",
              "\n",
              "[3 rows x 52 columns]"
            ]
          },
          "metadata": {},
          "execution_count": 13
        }
      ]
    },
    {
      "cell_type": "code",
      "metadata": {
        "colab": {
          "base_uri": "https://localhost:8080/",
          "height": 366
        },
        "id": "zG6EZc9tcCsK",
        "outputId": "2bdbfdc5-3466-42ad-87e8-57e29bf7c1bd"
      },
      "source": [
        "df_blue[['fecha','fut_bid', 'bid']] = df_blue[['fecha','fut_bid', 'bid']].fillna(method=\"ffill\")\n",
        "df_blue.dropna(subset = ['fecha'], inplace=True)\n",
        "df_blue.head(3)"
      ],
      "execution_count": null,
      "outputs": [
        {
          "output_type": "execute_result",
          "data": {
            "text/html": [
              "<div>\n",
              "<style scoped>\n",
              "    .dataframe tbody tr th:only-of-type {\n",
              "        vertical-align: middle;\n",
              "    }\n",
              "\n",
              "    .dataframe tbody tr th {\n",
              "        vertical-align: top;\n",
              "    }\n",
              "\n",
              "    .dataframe thead th {\n",
              "        text-align: right;\n",
              "    }\n",
              "</style>\n",
              "<table border=\"1\" class=\"dataframe\">\n",
              "  <thead>\n",
              "    <tr style=\"text-align: right;\">\n",
              "      <th></th>\n",
              "      <th>Unnamed: 0_x</th>\n",
              "      <th>Unnamed: 0.1</th>\n",
              "      <th>coordinates</th>\n",
              "      <th>created_at</th>\n",
              "      <th>hashtags</th>\n",
              "      <th>media</th>\n",
              "      <th>urls</th>\n",
              "      <th>favorite_count</th>\n",
              "      <th>id</th>\n",
              "      <th>in_reply_to_screen_name</th>\n",
              "      <th>in_reply_to_status_id</th>\n",
              "      <th>in_reply_to_user_id</th>\n",
              "      <th>lang</th>\n",
              "      <th>place</th>\n",
              "      <th>possibly_sensitive</th>\n",
              "      <th>quote_id</th>\n",
              "      <th>retweet_count</th>\n",
              "      <th>retweet_id</th>\n",
              "      <th>retweet_screen_name</th>\n",
              "      <th>source</th>\n",
              "      <th>text</th>\n",
              "      <th>tweet_url</th>\n",
              "      <th>user_created_at</th>\n",
              "      <th>user_id</th>\n",
              "      <th>user_default_profile_image</th>\n",
              "      <th>user_description</th>\n",
              "      <th>user_favourites_count</th>\n",
              "      <th>user_followers_count</th>\n",
              "      <th>user_friends_count</th>\n",
              "      <th>user_listed_count</th>\n",
              "      <th>user_location</th>\n",
              "      <th>user_name</th>\n",
              "      <th>user_screen_name</th>\n",
              "      <th>user_statuses_count</th>\n",
              "      <th>user_time_zone</th>\n",
              "      <th>user_urls</th>\n",
              "      <th>user_verified</th>\n",
              "      <th>Probas</th>\n",
              "      <th>Most_Prob</th>\n",
              "      <th>NEG</th>\n",
              "      <th>POS</th>\n",
              "      <th>NEU</th>\n",
              "      <th>Unnamed: 0_y</th>\n",
              "      <th>fecha</th>\n",
              "      <th>bid</th>\n",
              "      <th>ask</th>\n",
              "      <th>dif_ask</th>\n",
              "      <th>dif_bid</th>\n",
              "      <th>perc_ask</th>\n",
              "      <th>perc_bid</th>\n",
              "      <th>fut_ask</th>\n",
              "      <th>fut_bid</th>\n",
              "    </tr>\n",
              "  </thead>\n",
              "  <tbody>\n",
              "    <tr>\n",
              "      <th>4317</th>\n",
              "      <td>8573.0</td>\n",
              "      <td>8576.0</td>\n",
              "      <td>NaN</td>\n",
              "      <td>2020-04-27</td>\n",
              "      <td>NaN</td>\n",
              "      <td>NaN</td>\n",
              "      <td>https://twitter.com/portalmvd/status/125484091...</td>\n",
              "      <td>6.0</td>\n",
              "      <td>1.254923e+18</td>\n",
              "      <td>NaN</td>\n",
              "      <td>NaN</td>\n",
              "      <td>NaN</td>\n",
              "      <td>es</td>\n",
              "      <td>NaN</td>\n",
              "      <td>False</td>\n",
              "      <td>1.254841e+18</td>\n",
              "      <td>3.0</td>\n",
              "      <td>NaN</td>\n",
              "      <td>NaN</td>\n",
              "      <td>&lt;a href=\"http://twitter.com\" rel=\"nofollow\"&gt;Tw...</td>\n",
              "      <td>Va de nuevo: casi 3 millones de dolares. La mi...</td>\n",
              "      <td>https://twitter.com/SuenaUruguay/status/125492...</td>\n",
              "      <td>Sun Jun 28 00:45:06 +0000 2009</td>\n",
              "      <td>5.160547e+07</td>\n",
              "      <td>False</td>\n",
              "      <td>Todo sobre la música en Uruguay</td>\n",
              "      <td>29581.0</td>\n",
              "      <td>6737.0</td>\n",
              "      <td>2799.0</td>\n",
              "      <td>20.0</td>\n",
              "      <td>Montevideo, Uruguay</td>\n",
              "      <td>Suena Uruguay</td>\n",
              "      <td>SuenaUruguay</td>\n",
              "      <td>112711.0</td>\n",
              "      <td>NaN</td>\n",
              "      <td>https://open.spotify.com/user/lmt9kiv3uev1noqy...</td>\n",
              "      <td>False</td>\n",
              "      <td>SentimentOutput(output=NEU, probas={NEU: 0.870...</td>\n",
              "      <td>NEU</td>\n",
              "      <td>0.126</td>\n",
              "      <td>0.004</td>\n",
              "      <td>0.870</td>\n",
              "      <td>79.0</td>\n",
              "      <td>2020-04-27</td>\n",
              "      <td>109.0</td>\n",
              "      <td>118.0</td>\n",
              "      <td>1.0</td>\n",
              "      <td>1.0</td>\n",
              "      <td>0.85</td>\n",
              "      <td>0.93</td>\n",
              "      <td>2.0</td>\n",
              "      <td>2.0</td>\n",
              "    </tr>\n",
              "    <tr>\n",
              "      <th>4310</th>\n",
              "      <td>8566.0</td>\n",
              "      <td>8569.0</td>\n",
              "      <td>NaN</td>\n",
              "      <td>2020-04-27</td>\n",
              "      <td>NaN</td>\n",
              "      <td>NaN</td>\n",
              "      <td>https://www.airedesantafe.com.ar/santa-fe/por-...</td>\n",
              "      <td>10.0</td>\n",
              "      <td>1.254923e+18</td>\n",
              "      <td>NaN</td>\n",
              "      <td>NaN</td>\n",
              "      <td>NaN</td>\n",
              "      <td>es</td>\n",
              "      <td>NaN</td>\n",
              "      <td>False</td>\n",
              "      <td>NaN</td>\n",
              "      <td>4.0</td>\n",
              "      <td>NaN</td>\n",
              "      <td>NaN</td>\n",
              "      <td>&lt;a href=\"https://mobile.twitter.com\" rel=\"nofo...</td>\n",
              "      <td>SANTA FE | El número de infectados por Covid-1...</td>\n",
              "      <td>https://twitter.com/AiredeSantaFe/status/12549...</td>\n",
              "      <td>Thu Apr 23 15:40:32 +0000 2009</td>\n",
              "      <td>3.464384e+07</td>\n",
              "      <td>False</td>\n",
              "      <td>NaN</td>\n",
              "      <td>517.0</td>\n",
              "      <td>42905.0</td>\n",
              "      <td>386.0</td>\n",
              "      <td>167.0</td>\n",
              "      <td>Santa Fe, Argentina</td>\n",
              "      <td>Aire de Santa Fe</td>\n",
              "      <td>AiredeSantaFe</td>\n",
              "      <td>279649.0</td>\n",
              "      <td>NaN</td>\n",
              "      <td>https://www.airedigital.com</td>\n",
              "      <td>True</td>\n",
              "      <td>SentimentOutput(output=NEU, probas={NEU: 0.991...</td>\n",
              "      <td>NEU</td>\n",
              "      <td>0.007</td>\n",
              "      <td>0.003</td>\n",
              "      <td>0.991</td>\n",
              "      <td>79.0</td>\n",
              "      <td>2020-04-27</td>\n",
              "      <td>109.0</td>\n",
              "      <td>118.0</td>\n",
              "      <td>1.0</td>\n",
              "      <td>1.0</td>\n",
              "      <td>0.85</td>\n",
              "      <td>0.93</td>\n",
              "      <td>2.0</td>\n",
              "      <td>2.0</td>\n",
              "    </tr>\n",
              "    <tr>\n",
              "      <th>4316</th>\n",
              "      <td>8572.0</td>\n",
              "      <td>8575.0</td>\n",
              "      <td>NaN</td>\n",
              "      <td>2020-04-27</td>\n",
              "      <td>NaN</td>\n",
              "      <td>NaN</td>\n",
              "      <td>https://www.udigital.uy/msp-emergencia-sanitar...</td>\n",
              "      <td>2.0</td>\n",
              "      <td>1.254921e+18</td>\n",
              "      <td>NaN</td>\n",
              "      <td>NaN</td>\n",
              "      <td>NaN</td>\n",
              "      <td>es</td>\n",
              "      <td>NaN</td>\n",
              "      <td>False</td>\n",
              "      <td>NaN</td>\n",
              "      <td>0.0</td>\n",
              "      <td>NaN</td>\n",
              "      <td>NaN</td>\n",
              "      <td>&lt;a href=\"http://twitter.com/download/iphone\" r...</td>\n",
              "      <td>Hombre de 91 años es la decimoquinta víctima d...</td>\n",
              "      <td>https://twitter.com/udigitaluy/status/12549206...</td>\n",
              "      <td>Wed Sep 11 15:20:29 +0000 2013</td>\n",
              "      <td>1.854599e+09</td>\n",
              "      <td>False</td>\n",
              "      <td>Portal de Noticias de Uruguay</td>\n",
              "      <td>1803.0</td>\n",
              "      <td>6633.0</td>\n",
              "      <td>757.0</td>\n",
              "      <td>30.0</td>\n",
              "      <td>Uruguay</td>\n",
              "      <td>Udigital</td>\n",
              "      <td>udigitaluy</td>\n",
              "      <td>7120.0</td>\n",
              "      <td>NaN</td>\n",
              "      <td>http://www.udigital.uy</td>\n",
              "      <td>False</td>\n",
              "      <td>SentimentOutput(output=NEG, probas={NEG: 0.994...</td>\n",
              "      <td>NEG</td>\n",
              "      <td>0.994</td>\n",
              "      <td>0.001</td>\n",
              "      <td>0.004</td>\n",
              "      <td>79.0</td>\n",
              "      <td>2020-04-27</td>\n",
              "      <td>109.0</td>\n",
              "      <td>118.0</td>\n",
              "      <td>1.0</td>\n",
              "      <td>1.0</td>\n",
              "      <td>0.85</td>\n",
              "      <td>0.93</td>\n",
              "      <td>2.0</td>\n",
              "      <td>2.0</td>\n",
              "    </tr>\n",
              "  </tbody>\n",
              "</table>\n",
              "</div>"
            ],
            "text/plain": [
              "      Unnamed: 0_x  Unnamed: 0.1 coordinates  ... perc_bid fut_ask fut_bid\n",
              "4317        8573.0        8576.0         NaN  ...     0.93     2.0     2.0\n",
              "4310        8566.0        8569.0         NaN  ...     0.93     2.0     2.0\n",
              "4316        8572.0        8575.0         NaN  ...     0.93     2.0     2.0\n",
              "\n",
              "[3 rows x 52 columns]"
            ]
          },
          "metadata": {},
          "execution_count": 14
        }
      ]
    },
    {
      "cell_type": "code",
      "metadata": {
        "colab": {
          "base_uri": "https://localhost:8080/",
          "height": 253
        },
        "id": "lHrCVlaxxoYz",
        "outputId": "02607b02-6e6f-491c-d85f-312178b560b3"
      },
      "source": [
        "#Desagregar la fecha en DOW, semana, mes y año\n",
        "df_blue['DOW'] = df_blue['fecha'].dt.weekday+1\n",
        "df_blue['Week'] = df_blue['fecha'].dt.weekofyear\n",
        "df_blue['Month'] = df_blue['fecha'].dt.month\n",
        "df_blue['Year'] = df_blue['fecha'].dt.year\n",
        "df_blue.head(1)"
      ],
      "execution_count": null,
      "outputs": [
        {
          "output_type": "stream",
          "name": "stderr",
          "text": [
            "/usr/local/lib/python3.7/dist-packages/ipykernel_launcher.py:3: FutureWarning: Series.dt.weekofyear and Series.dt.week have been deprecated.  Please use Series.dt.isocalendar().week instead.\n",
            "  This is separate from the ipykernel package so we can avoid doing imports until\n"
          ]
        },
        {
          "output_type": "execute_result",
          "data": {
            "text/html": [
              "<div>\n",
              "<style scoped>\n",
              "    .dataframe tbody tr th:only-of-type {\n",
              "        vertical-align: middle;\n",
              "    }\n",
              "\n",
              "    .dataframe tbody tr th {\n",
              "        vertical-align: top;\n",
              "    }\n",
              "\n",
              "    .dataframe thead th {\n",
              "        text-align: right;\n",
              "    }\n",
              "</style>\n",
              "<table border=\"1\" class=\"dataframe\">\n",
              "  <thead>\n",
              "    <tr style=\"text-align: right;\">\n",
              "      <th></th>\n",
              "      <th>Unnamed: 0_x</th>\n",
              "      <th>Unnamed: 0.1</th>\n",
              "      <th>coordinates</th>\n",
              "      <th>created_at</th>\n",
              "      <th>hashtags</th>\n",
              "      <th>media</th>\n",
              "      <th>urls</th>\n",
              "      <th>favorite_count</th>\n",
              "      <th>id</th>\n",
              "      <th>in_reply_to_screen_name</th>\n",
              "      <th>in_reply_to_status_id</th>\n",
              "      <th>in_reply_to_user_id</th>\n",
              "      <th>lang</th>\n",
              "      <th>place</th>\n",
              "      <th>possibly_sensitive</th>\n",
              "      <th>quote_id</th>\n",
              "      <th>retweet_count</th>\n",
              "      <th>retweet_id</th>\n",
              "      <th>retweet_screen_name</th>\n",
              "      <th>source</th>\n",
              "      <th>text</th>\n",
              "      <th>tweet_url</th>\n",
              "      <th>user_created_at</th>\n",
              "      <th>user_id</th>\n",
              "      <th>user_default_profile_image</th>\n",
              "      <th>user_description</th>\n",
              "      <th>user_favourites_count</th>\n",
              "      <th>user_followers_count</th>\n",
              "      <th>user_friends_count</th>\n",
              "      <th>user_listed_count</th>\n",
              "      <th>user_location</th>\n",
              "      <th>user_name</th>\n",
              "      <th>user_screen_name</th>\n",
              "      <th>user_statuses_count</th>\n",
              "      <th>user_time_zone</th>\n",
              "      <th>user_urls</th>\n",
              "      <th>user_verified</th>\n",
              "      <th>Probas</th>\n",
              "      <th>Most_Prob</th>\n",
              "      <th>NEG</th>\n",
              "      <th>POS</th>\n",
              "      <th>NEU</th>\n",
              "      <th>Unnamed: 0_y</th>\n",
              "      <th>fecha</th>\n",
              "      <th>bid</th>\n",
              "      <th>ask</th>\n",
              "      <th>dif_ask</th>\n",
              "      <th>dif_bid</th>\n",
              "      <th>perc_ask</th>\n",
              "      <th>perc_bid</th>\n",
              "      <th>fut_ask</th>\n",
              "      <th>fut_bid</th>\n",
              "      <th>DOW</th>\n",
              "      <th>Week</th>\n",
              "      <th>Month</th>\n",
              "      <th>Year</th>\n",
              "    </tr>\n",
              "  </thead>\n",
              "  <tbody>\n",
              "    <tr>\n",
              "      <th>4317</th>\n",
              "      <td>8573.0</td>\n",
              "      <td>8576.0</td>\n",
              "      <td>NaN</td>\n",
              "      <td>2020-04-27</td>\n",
              "      <td>NaN</td>\n",
              "      <td>NaN</td>\n",
              "      <td>https://twitter.com/portalmvd/status/125484091...</td>\n",
              "      <td>6.0</td>\n",
              "      <td>1.254923e+18</td>\n",
              "      <td>NaN</td>\n",
              "      <td>NaN</td>\n",
              "      <td>NaN</td>\n",
              "      <td>es</td>\n",
              "      <td>NaN</td>\n",
              "      <td>False</td>\n",
              "      <td>1.254841e+18</td>\n",
              "      <td>3.0</td>\n",
              "      <td>NaN</td>\n",
              "      <td>NaN</td>\n",
              "      <td>&lt;a href=\"http://twitter.com\" rel=\"nofollow\"&gt;Tw...</td>\n",
              "      <td>Va de nuevo: casi 3 millones de dolares. La mi...</td>\n",
              "      <td>https://twitter.com/SuenaUruguay/status/125492...</td>\n",
              "      <td>Sun Jun 28 00:45:06 +0000 2009</td>\n",
              "      <td>51605473.0</td>\n",
              "      <td>False</td>\n",
              "      <td>Todo sobre la música en Uruguay</td>\n",
              "      <td>29581.0</td>\n",
              "      <td>6737.0</td>\n",
              "      <td>2799.0</td>\n",
              "      <td>20.0</td>\n",
              "      <td>Montevideo, Uruguay</td>\n",
              "      <td>Suena Uruguay</td>\n",
              "      <td>SuenaUruguay</td>\n",
              "      <td>112711.0</td>\n",
              "      <td>NaN</td>\n",
              "      <td>https://open.spotify.com/user/lmt9kiv3uev1noqy...</td>\n",
              "      <td>False</td>\n",
              "      <td>SentimentOutput(output=NEU, probas={NEU: 0.870...</td>\n",
              "      <td>NEU</td>\n",
              "      <td>0.126</td>\n",
              "      <td>0.004</td>\n",
              "      <td>0.87</td>\n",
              "      <td>79.0</td>\n",
              "      <td>2020-04-27</td>\n",
              "      <td>109.0</td>\n",
              "      <td>118.0</td>\n",
              "      <td>1.0</td>\n",
              "      <td>1.0</td>\n",
              "      <td>0.85</td>\n",
              "      <td>0.93</td>\n",
              "      <td>2.0</td>\n",
              "      <td>2.0</td>\n",
              "      <td>1</td>\n",
              "      <td>18</td>\n",
              "      <td>4</td>\n",
              "      <td>2020</td>\n",
              "    </tr>\n",
              "  </tbody>\n",
              "</table>\n",
              "</div>"
            ],
            "text/plain": [
              "      Unnamed: 0_x  Unnamed: 0.1 coordinates created_at  ... DOW Week Month  Year\n",
              "4317        8573.0        8576.0         NaN 2020-04-27  ...   1   18     4  2020\n",
              "\n",
              "[1 rows x 56 columns]"
            ]
          },
          "metadata": {},
          "execution_count": 15
        }
      ]
    },
    {
      "cell_type": "code",
      "metadata": {
        "id": "UJ1GSK5E2V9Q"
      },
      "source": [
        "df_blue['Output_label'] = df_blue.Most_Prob.map({'POS':1, 'NEU':0, 'NEG':0})\n",
        "df_blue['Output_neg'] = df_blue.Most_Prob.map({'POS':0, 'NEU':0, 'NEG':1})"
      ],
      "execution_count": null,
      "outputs": []
    },
    {
      "cell_type": "code",
      "metadata": {
        "id": "TCJgNtK3Ffge"
      },
      "source": [
        "import numpy as np\n",
        "import math\n",
        "\n",
        "def sigmoid(x):\n",
        "  return 1 / (1 + math.exp(-x))"
      ],
      "execution_count": null,
      "outputs": []
    },
    {
      "cell_type": "code",
      "metadata": {
        "colab": {
          "base_uri": "https://localhost:8080/"
        },
        "id": "ZaSp5yS0toDN",
        "outputId": "235e4bde-92c2-4b67-bcd2-8155170e2926"
      },
      "source": [
        "df_blue['indice'] = df_blue['POS'] + df_blue['NEG']\n",
        "df2 = df_blue.groupby('fecha').agg({'indice':'mean'}).reset_index()\n",
        "df2['prediction'] = df2.indice.map(lambda x: sigmoid(x))\n",
        "(1/(aux.Up.count()))*np.sum(aux['Up']*np.log(df2['prediction']) - (1-aux['Up'])*np.log(1-(df2['prediction'])))\n",
        "#(1-aux['Up'].to_numpy())*np.log(1-(df2['prediction']))\n",
        "#np.log(1-(df2['prediction']))\n",
        "aux['Up']*np.log(df2['prediction']) - (1-aux['Up'])*np.log(1-(df2['prediction']))"
      ],
      "execution_count": null,
      "outputs": [
        {
          "output_type": "execute_result",
          "data": {
            "text/plain": [
              "0     -0.512040\n",
              "1      0.918038\n",
              "2      0.918298\n",
              "3     -0.500136\n",
              "4      0.908162\n",
              "         ...   \n",
              "335    0.934814\n",
              "336    0.927426\n",
              "337    0.934056\n",
              "338    0.906602\n",
              "339    0.915944\n",
              "Length: 340, dtype: float64"
            ]
          },
          "metadata": {},
          "execution_count": 132
        }
      ]
    },
    {
      "cell_type": "code",
      "metadata": {
        "id": "gXmpaSRm4SwS"
      },
      "source": [
        "def tweet_index(df, a, b, c, d):\n",
        "  df['indice'] = a*df['POS'] + b*df['NEG'] + c\n",
        "  df2 = df.groupby('fecha').agg({'indice':'mean'}).reset_index()\n",
        "  return df2.sort_values(by=\"fecha\")\n",
        "\n",
        "def gradient(dfX,Y ,a, b, c, d):\n",
        "    pass  # YOUR CODE HERE\n",
        "    df2 = tweet_index(dfX, a, b, c, d)\n",
        "    df2['prediction'] = df2.indice.map(lambda x: sigmoid(x))\n",
        "    d_a = np.sum(tweet_index(dfX,1,0,0,d).indice*(df2.prediction-Y))\n",
        "    d_b = np.sum(tweet_index(dfX,0,1,0,d).indice*(df2.prediction-Y))\n",
        "    d_c = np.sum(tweet_index(dfX,0,0,1,d).indice*(df2.prediction-Y))\n",
        "    return d_a, d_b, d_c\n",
        "\n",
        "def loss(dfX, Y, a, b, c, d):\n",
        "  df2 = tweet_index(dfX, a, b, c, d)\n",
        "  df2['prediction'] = df2.indice.map(lambda x: sigmoid(x))\n",
        "  df2.sort_values(by=\"fecha\")\n",
        "  return (1/(Y.count()))*np.sum(Y*np.log(df2['prediction']) - (1-Y)*np.log(1-(df2['prediction'])))\n",
        "\n",
        "def steps(d_a,d_b,d_c, learning_rate = 0.01):\n",
        "    pass  # YOUR CODE HERE\n",
        "    step_a = d_a*learning_rate\n",
        "    step_b = d_b*learning_rate\n",
        "    step_c = d_c*learning_rate\n",
        "    return step_a, step_b, step_c\n",
        "\n",
        "def update_params(a, b, c, step_a, step_b, step_c):\n",
        "    pass  # YOUR CODE HERE\n",
        "    a_new = a - step_a\n",
        "    b_new = b - step_b\n",
        "    c_new = c - step_c\n",
        "    return a_new , b_new, c_new"
      ],
      "execution_count": null,
      "outputs": []
    },
    {
      "cell_type": "code",
      "metadata": {
        "colab": {
          "base_uri": "https://localhost:8080/"
        },
        "id": "QtrmKzctGRyW",
        "outputId": "8236ce11-00c0-4eaa-8c90-454aa947cf91"
      },
      "source": [
        "print(loss(df_blue, aux.Up, 2, 2, 1, 1.5))\n",
        "update_params(1,1,1, *steps(*gradient(df_blue, aux['Up'], 1, 1, 1, 1.5), learning_rate=0.005))"
      ],
      "execution_count": null,
      "outputs": [
        {
          "output_type": "stream",
          "name": "stdout",
          "text": [
            "0.6990932284988898\n"
          ]
        },
        {
          "output_type": "execute_result",
          "data": {
            "text/plain": [
              "(0.9586957042260732, 0.8362372383959302, 1.0)"
            ]
          },
          "metadata": {},
          "execution_count": 148
        }
      ]
    },
    {
      "cell_type": "code",
      "metadata": {
        "colab": {
          "base_uri": "https://localhost:8080/"
        },
        "id": "IHrAs1mSVG00",
        "outputId": "30ed5d90-d823-4e50-8882-116d968e9854"
      },
      "source": [
        "np.sum(tweet_index(df_blue,0,1,-1,1.5).indice.to_numpy())"
      ],
      "execution_count": null,
      "outputs": [
        {
          "output_type": "execute_result",
          "data": {
            "text/plain": [
              "124.29389675910119"
            ]
          },
          "metadata": {},
          "execution_count": 149
        }
      ]
    },
    {
      "cell_type": "code",
      "metadata": {
        "id": "TKQzrjwTQHWt"
      },
      "source": [
        "from tqdm.notebook import tqdm"
      ],
      "execution_count": null,
      "outputs": []
    },
    {
      "cell_type": "code",
      "metadata": {
        "colab": {
          "base_uri": "https://localhost:8080/",
          "height": 49,
          "referenced_widgets": [
            "72563d311a074f1c9c72818680b22b07",
            "addb97a750d24e30936b3d0dbb35d2e1",
            "20448dc27e2346be820fb80eaeb08755",
            "5f8700f3f6704c36aaf02ba38fc15da0",
            "c7efa82edc924bd093b03fa101359b4a",
            "f2889aa144e5410da2c209b3100f0cbb",
            "ea7da04b61d6494583893fc3852128cb",
            "ebee1a09e79743a18a690a882ec11243",
            "ec6491b9ae8d455a90b95cc566ca4cfe",
            "395085a8abf04567a2bf4760d2d8108f",
            "89f3b7ff20014bc28ee789fd12ca36a6"
          ]
        },
        "id": "zhnDXd8sNfeW",
        "outputId": "b5440f80-979c-4c31-a0bb-61a94b6d3697"
      },
      "source": [
        "a = 0\n",
        "b = 0\n",
        "c = 0\n",
        "d = 0\n",
        "n_epoch = 200\n",
        "loss_history = [loss(df_blue, aux.Down,a,b,c,d)]\n",
        "a_history = [a]\n",
        "b_history = [b]\n",
        "c_history = [c]\n",
        "\n",
        "for epoch in tqdm(range(n_epoch)):\n",
        "    new_a = update_params(a,b,c, *steps(*gradient(df_blue, aux.Down, a, b, c, d), learning_rate=0.005))[0]\n",
        "    new_b = update_params(a,b,c, *steps(*gradient(df_blue, aux.Down, a, b, c, d), learning_rate=0.005))[1]\n",
        "    new_c = update_params(a,b,c, *steps(*gradient(df_blue, aux.Down, a, b, c, d), learning_rate=0.005))[2]\n",
        "    a = new_a\n",
        "    b = new_b\n",
        "    c = new_c\n",
        "    loss_history.append(loss(df_blue, aux.Down,a,b,c,d))\n",
        "    a_history.append(a)\n",
        "    b_history.append(b)\n",
        "    c_history.append(c)"
      ],
      "execution_count": null,
      "outputs": [
        {
          "output_type": "display_data",
          "data": {
            "application/vnd.jupyter.widget-view+json": {
              "model_id": "72563d311a074f1c9c72818680b22b07",
              "version_minor": 0,
              "version_major": 2
            },
            "text/plain": [
              "  0%|          | 0/200 [00:00<?, ?it/s]"
            ]
          },
          "metadata": {}
        }
      ]
    },
    {
      "cell_type": "code",
      "metadata": {
        "colab": {
          "base_uri": "https://localhost:8080/"
        },
        "id": "XYD8xC-14HZo",
        "outputId": "1960f1d3-5278-4bfd-ca6a-d2f5d49c4f7a"
      },
      "source": [
        "a_history[-1],b_history[-1],c_history[-1]"
      ],
      "execution_count": null,
      "outputs": [
        {
          "output_type": "execute_result",
          "data": {
            "text/plain": [
              "(-0.14223054541848337, -0.2721699969717113, -0.8052792052961709)"
            ]
          },
          "metadata": {},
          "execution_count": 186
        }
      ]
    },
    {
      "cell_type": "code",
      "metadata": {
        "colab": {
          "base_uri": "https://localhost:8080/"
        },
        "id": "3Wy4EWduzdOh",
        "outputId": "ac13d35c-e10b-497f-9437-b41dab11f3bf"
      },
      "source": [
        "a,b,c = a_history[-1],b_history[-1],c_history[-1]\n",
        "best_label = tweet_index(df_blue, a, b, c, 1.5)\n",
        "best_label['predictor'] = best_label.indice.map(lambda x : sigmoid(x))\n",
        "best_label['prediction'] = best_label.predictor.map(lambda x: 1 if x > 0.366 else 0)\n",
        "best_label\n",
        "#def threshold_opt(df):\n",
        "#  df['prediction'] = df.predictor.map(lambda x: 1 if x > threshold else 0)\n",
        "df_validación = aux.merge(best_label, on='fecha', how='inner')\n",
        "df_validación['correct'] = df_validación['Down'] ==  df_validación['prediction']\n",
        "df_validación.correct.value_counts()"
      ],
      "execution_count": null,
      "outputs": [
        {
          "output_type": "execute_result",
          "data": {
            "text/plain": [
              "True     243\n",
              "False     97\n",
              "Name: correct, dtype: int64"
            ]
          },
          "metadata": {},
          "execution_count": 187
        }
      ]
    },
    {
      "cell_type": "code",
      "metadata": {
        "colab": {
          "base_uri": "https://localhost:8080/",
          "height": 514
        },
        "id": "wyHj5FWT2oyp",
        "outputId": "c8b16e0f-bb77-4ce9-caf6-43146b13ebb2"
      },
      "source": [
        "aux = df_blue.groupby('fecha').agg({'Output_label':'sum','Output_neg':'sum', 'fut_bid':'mean', 'bid':'mean', 'text': 'count'}).reset_index()\n",
        "aux['Up'] = aux.fut_bid.map(lambda x: 1 if x >= 0.8 else 0)\n",
        "aux['Down'] = aux.fut_bid.map(lambda x: 1 if x <= -0.8 else 0)\n",
        "aux['Cte'] = aux.fut_bid.map(lambda x: 1 if x > -0.8 and x < 0.8 else 0)\n",
        "#df_dia = aux.merge(blue[['fecha','bid','fut_bid']], left_on='fecha', right_on='fecha', how='outer')\n",
        "#df_dia.dropna(subset = ['Output_label'], inplace=True)\n",
        "aux.rename(columns = {'text':'n_tweets'}, inplace = True)\n",
        "aux.sort_values(by=\"fecha\")\n",
        "aux.head(15)\n",
        "#aux[aux['Output_label']<-0.3]"
      ],
      "execution_count": null,
      "outputs": [
        {
          "output_type": "execute_result",
          "data": {
            "text/html": [
              "<div>\n",
              "<style scoped>\n",
              "    .dataframe tbody tr th:only-of-type {\n",
              "        vertical-align: middle;\n",
              "    }\n",
              "\n",
              "    .dataframe tbody tr th {\n",
              "        vertical-align: top;\n",
              "    }\n",
              "\n",
              "    .dataframe thead th {\n",
              "        text-align: right;\n",
              "    }\n",
              "</style>\n",
              "<table border=\"1\" class=\"dataframe\">\n",
              "  <thead>\n",
              "    <tr style=\"text-align: right;\">\n",
              "      <th></th>\n",
              "      <th>fecha</th>\n",
              "      <th>Output_label</th>\n",
              "      <th>Output_neg</th>\n",
              "      <th>fut_bid</th>\n",
              "      <th>bid</th>\n",
              "      <th>n_tweets</th>\n",
              "      <th>Up</th>\n",
              "      <th>Down</th>\n",
              "      <th>Cte</th>\n",
              "    </tr>\n",
              "  </thead>\n",
              "  <tbody>\n",
              "    <tr>\n",
              "      <th>0</th>\n",
              "      <td>2020-04-27</td>\n",
              "      <td>454</td>\n",
              "      <td>1268</td>\n",
              "      <td>2.00</td>\n",
              "      <td>109.00</td>\n",
              "      <td>4340</td>\n",
              "      <td>1</td>\n",
              "      <td>0</td>\n",
              "      <td>0</td>\n",
              "    </tr>\n",
              "    <tr>\n",
              "      <th>1</th>\n",
              "      <td>2020-04-28</td>\n",
              "      <td>230</td>\n",
              "      <td>698</td>\n",
              "      <td>0.20</td>\n",
              "      <td>111.00</td>\n",
              "      <td>2329</td>\n",
              "      <td>0</td>\n",
              "      <td>0</td>\n",
              "      <td>1</td>\n",
              "    </tr>\n",
              "    <tr>\n",
              "      <th>2</th>\n",
              "      <td>2020-04-29</td>\n",
              "      <td>193</td>\n",
              "      <td>708</td>\n",
              "      <td>-2.40</td>\n",
              "      <td>111.20</td>\n",
              "      <td>2259</td>\n",
              "      <td>0</td>\n",
              "      <td>1</td>\n",
              "      <td>0</td>\n",
              "    </tr>\n",
              "    <tr>\n",
              "      <th>3</th>\n",
              "      <td>2020-04-30</td>\n",
              "      <td>854</td>\n",
              "      <td>2304</td>\n",
              "      <td>1.60</td>\n",
              "      <td>108.80</td>\n",
              "      <td>7451</td>\n",
              "      <td>1</td>\n",
              "      <td>0</td>\n",
              "      <td>0</td>\n",
              "    </tr>\n",
              "    <tr>\n",
              "      <th>4</th>\n",
              "      <td>2020-05-04</td>\n",
              "      <td>171</td>\n",
              "      <td>549</td>\n",
              "      <td>0.60</td>\n",
              "      <td>110.40</td>\n",
              "      <td>1898</td>\n",
              "      <td>0</td>\n",
              "      <td>0</td>\n",
              "      <td>1</td>\n",
              "    </tr>\n",
              "    <tr>\n",
              "      <th>5</th>\n",
              "      <td>2020-05-05</td>\n",
              "      <td>180</td>\n",
              "      <td>553</td>\n",
              "      <td>2.00</td>\n",
              "      <td>111.00</td>\n",
              "      <td>1968</td>\n",
              "      <td>1</td>\n",
              "      <td>0</td>\n",
              "      <td>0</td>\n",
              "    </tr>\n",
              "    <tr>\n",
              "      <th>6</th>\n",
              "      <td>2020-05-06</td>\n",
              "      <td>202</td>\n",
              "      <td>574</td>\n",
              "      <td>0.00</td>\n",
              "      <td>113.00</td>\n",
              "      <td>2051</td>\n",
              "      <td>0</td>\n",
              "      <td>0</td>\n",
              "      <td>1</td>\n",
              "    </tr>\n",
              "    <tr>\n",
              "      <th>7</th>\n",
              "      <td>2020-05-07</td>\n",
              "      <td>317</td>\n",
              "      <td>615</td>\n",
              "      <td>0.20</td>\n",
              "      <td>113.00</td>\n",
              "      <td>2337</td>\n",
              "      <td>0</td>\n",
              "      <td>0</td>\n",
              "      <td>1</td>\n",
              "    </tr>\n",
              "    <tr>\n",
              "      <th>8</th>\n",
              "      <td>2020-05-08</td>\n",
              "      <td>376</td>\n",
              "      <td>1116</td>\n",
              "      <td>2.60</td>\n",
              "      <td>113.20</td>\n",
              "      <td>3457</td>\n",
              "      <td>1</td>\n",
              "      <td>0</td>\n",
              "      <td>0</td>\n",
              "    </tr>\n",
              "    <tr>\n",
              "      <th>9</th>\n",
              "      <td>2020-05-11</td>\n",
              "      <td>169</td>\n",
              "      <td>515</td>\n",
              "      <td>2.40</td>\n",
              "      <td>115.80</td>\n",
              "      <td>1847</td>\n",
              "      <td>1</td>\n",
              "      <td>0</td>\n",
              "      <td>0</td>\n",
              "    </tr>\n",
              "    <tr>\n",
              "      <th>10</th>\n",
              "      <td>2020-05-12</td>\n",
              "      <td>278</td>\n",
              "      <td>548</td>\n",
              "      <td>6.00</td>\n",
              "      <td>118.20</td>\n",
              "      <td>2070</td>\n",
              "      <td>1</td>\n",
              "      <td>0</td>\n",
              "      <td>0</td>\n",
              "    </tr>\n",
              "    <tr>\n",
              "      <th>11</th>\n",
              "      <td>2020-05-13</td>\n",
              "      <td>251</td>\n",
              "      <td>562</td>\n",
              "      <td>5.00</td>\n",
              "      <td>124.20</td>\n",
              "      <td>2027</td>\n",
              "      <td>1</td>\n",
              "      <td>0</td>\n",
              "      <td>0</td>\n",
              "    </tr>\n",
              "    <tr>\n",
              "      <th>12</th>\n",
              "      <td>2020-05-14</td>\n",
              "      <td>174</td>\n",
              "      <td>616</td>\n",
              "      <td>0.00</td>\n",
              "      <td>129.20</td>\n",
              "      <td>1960</td>\n",
              "      <td>0</td>\n",
              "      <td>0</td>\n",
              "      <td>1</td>\n",
              "    </tr>\n",
              "    <tr>\n",
              "      <th>13</th>\n",
              "      <td>2020-05-15</td>\n",
              "      <td>762</td>\n",
              "      <td>1730</td>\n",
              "      <td>-9.05</td>\n",
              "      <td>129.20</td>\n",
              "      <td>5652</td>\n",
              "      <td>0</td>\n",
              "      <td>1</td>\n",
              "      <td>0</td>\n",
              "    </tr>\n",
              "    <tr>\n",
              "      <th>14</th>\n",
              "      <td>2020-05-18</td>\n",
              "      <td>233</td>\n",
              "      <td>665</td>\n",
              "      <td>-4.40</td>\n",
              "      <td>120.15</td>\n",
              "      <td>2172</td>\n",
              "      <td>0</td>\n",
              "      <td>1</td>\n",
              "      <td>0</td>\n",
              "    </tr>\n",
              "  </tbody>\n",
              "</table>\n",
              "</div>"
            ],
            "text/plain": [
              "        fecha  Output_label  Output_neg  fut_bid  ...  n_tweets  Up  Down  Cte\n",
              "0  2020-04-27           454        1268     2.00  ...      4340   1     0    0\n",
              "1  2020-04-28           230         698     0.20  ...      2329   0     0    1\n",
              "2  2020-04-29           193         708    -2.40  ...      2259   0     1    0\n",
              "3  2020-04-30           854        2304     1.60  ...      7451   1     0    0\n",
              "4  2020-05-04           171         549     0.60  ...      1898   0     0    1\n",
              "5  2020-05-05           180         553     2.00  ...      1968   1     0    0\n",
              "6  2020-05-06           202         574     0.00  ...      2051   0     0    1\n",
              "7  2020-05-07           317         615     0.20  ...      2337   0     0    1\n",
              "8  2020-05-08           376        1116     2.60  ...      3457   1     0    0\n",
              "9  2020-05-11           169         515     2.40  ...      1847   1     0    0\n",
              "10 2020-05-12           278         548     6.00  ...      2070   1     0    0\n",
              "11 2020-05-13           251         562     5.00  ...      2027   1     0    0\n",
              "12 2020-05-14           174         616     0.00  ...      1960   0     0    1\n",
              "13 2020-05-15           762        1730    -9.05  ...      5652   0     1    0\n",
              "14 2020-05-18           233         665    -4.40  ...      2172   0     1    0\n",
              "\n",
              "[15 rows x 9 columns]"
            ]
          },
          "metadata": {},
          "execution_count": 97
        }
      ]
    },
    {
      "cell_type": "code",
      "metadata": {
        "colab": {
          "base_uri": "https://localhost:8080/",
          "height": 459
        },
        "id": "F5jzDRgt6PCu",
        "outputId": "cd5e900c-e28a-4c63-b810-dec4986df339"
      },
      "source": [
        "import seaborn as sns\n",
        "import matplotlib.pyplot as plt\n",
        "sns.heatmap(aux.corr()), aux.corr()"
      ],
      "execution_count": null,
      "outputs": [
        {
          "output_type": "execute_result",
          "data": {
            "text/plain": [
              "(<matplotlib.axes._subplots.AxesSubplot at 0x7f1858126150>,\n",
              "               Output_label  Output_neg   fut_bid       bid  n_tweets        Up\n",
              " Output_label      1.000000    0.921608 -0.014122 -0.159943  0.965272  0.016175\n",
              " Output_neg        0.921608    1.000000 -0.015739 -0.091121  0.982887 -0.000361\n",
              " fut_bid          -0.014122   -0.015739  1.000000 -0.081917 -0.023890 -0.311403\n",
              " bid              -0.159943   -0.091121 -0.081917  1.000000 -0.149418  0.048303\n",
              " n_tweets          0.965272    0.982887 -0.023890 -0.149418  1.000000  0.009625\n",
              " Up                0.016175   -0.000361 -0.311403  0.048303  0.009625  1.000000)"
            ]
          },
          "metadata": {},
          "execution_count": 80
        },
        {
          "output_type": "display_data",
          "data": {
            "image/png": "[encoded data removed]",
            "text/plain": [
              "<Figure size 432x288 with 2 Axes>"
            ]
          },
          "metadata": {
            "needs_background": "light"
          }
        }
      ]
    },
    {
      "cell_type": "code",
      "metadata": {
        "colab": {
          "base_uri": "https://localhost:8080/",
          "height": 609
        },
        "id": "ZSY0DYDC1rIm",
        "outputId": "169efe38-b48e-4c64-a172-912bd591abe8"
      },
      "source": [
        "fig, axs = plt.subplots(4, 1, figsize=(18,10))\n",
        "axs[0].plot(aux.Output_label, c='red')\n",
        "axs[1].plot(-aux.Output_neg, c='purple')\n",
        "axs[2].plot(aux.bid)\n",
        "axs[3].plot(aux.fut_bid, c='green')"
      ],
      "execution_count": null,
      "outputs": [
        {
          "output_type": "execute_result",
          "data": {
            "text/plain": [
              "[<matplotlib.lines.Line2D at 0x7f184c60c290>]"
            ]
          },
          "metadata": {},
          "execution_count": 60
        },
        {
          "output_type": "display_data",
          "data": {
            "image/png": "[encoded data removed]",
            "text/plain": [
              "<Figure size 1296x720 with 4 Axes>"
            ]
          },
          "metadata": {
            "needs_background": "light"
          }
        }
      ]
    },
    {
      "cell_type": "code",
      "metadata": {
        "id": "VgC82iU6Wmxt"
      },
      "source": [
        "aux.to_csv('output_df.csv')"
      ],
      "execution_count": null,
      "outputs": []
    },
    {
      "cell_type": "code",
      "metadata": {
        "id": "JxnX5TMz_r55"
      },
      "source": [
        "!cp output_df.csv \"drive/My Drive/\""
      ],
      "execution_count": null,
      "outputs": []
    },
    {
      "cell_type": "code",
      "metadata": {
        "id": "OPnXSyVtXBWE"
      },
      "source": [
        "AVAILABLE_LANGS = ['es', 'en']\n",
        "import emoji\n",
        "\n",
        "def check_valid_lang(lang):\n",
        "    if lang not in AVAILABLE_LANGS:\n",
        "        raise Exception(f'There is no stopwords file for {lang}.') \n",
        "\n",
        "def read_stopwords(lang):\n",
        "    '''Reads stopword file, returns a list of stopwords.'''\n",
        "    check_valid_lang(lang)\n",
        "    with open(f'../stopwords/stopwords_{lang}.txt', 'r') as fi:\n",
        "        stop_words = fi.read()\n",
        "    return stop_words.split()\n",
        "\n",
        "def remove_emojis(data):\n",
        "    #return re.sub(r':[^: ]+?:', '', tweet)\n",
        "    #return emoji.get_emoji_regexp().sub(r'', tweet.decode('utf8'))\n",
        "    emoj = re.compile(\"[\"\n",
        "        u\"\\U0001F600-\\U0001F64F\"  # emoticons\n",
        "        u\"\\U0001F300-\\U0001F5FF\"  # symbols & pictographs\n",
        "        u\"\\U0001F680-\\U0001F6FF\"  # transport & map symbols\n",
        "        u\"\\U0001F1E0-\\U0001F1FF\"  # flags (iOS)\n",
        "        u\"\\U00002500-\\U00002BEF\"  # chinese char\n",
        "        u\"\\U00002702-\\U000027B0\"\n",
        "        u\"\\U00002702-\\U000027B0\"\n",
        "        u\"\\U000024C2-\\U0001F251\"\n",
        "        u\"\\U0001f926-\\U0001f937\"\n",
        "        u\"\\U00010000-\\U0010ffff\"\n",
        "        u\"\\u2640-\\u2642\" \n",
        "        u\"\\u2600-\\u2B55\"\n",
        "        u\"\\u200d\"\n",
        "        u\"\\u23cf\"\n",
        "        u\"\\u23e9\"\n",
        "        u\"\\u231a\"\n",
        "        u\"\\ufe0f\"  # dingbats\n",
        "        u\"\\u3030\"\n",
        "                      \"]+\", re.UNICODE)\n",
        "    return re.sub(emoj, '', data)"
      ],
      "execution_count": null,
      "outputs": []
    },
    {
      "cell_type": "code",
      "metadata": {
        "colab": {
          "base_uri": "https://localhost:8080/"
        },
        "id": "cfHtIy2ARlTS",
        "outputId": "afcebf5d-ecb3-4790-d29d-f24efa658da4"
      },
      "source": [
        "import string\n",
        "import re\n",
        "from nltk.corpus import stopwords \n",
        "from nltk.tokenize import word_tokenize\n",
        "from nltk.stem import WordNetLemmatizer\n",
        "import nltk\n",
        "\n",
        "nltk.download('stopwords')\n",
        "nltk.download('punkt')\n",
        "nltk.download('wordnet')\n",
        "\n",
        "\n",
        "def prep(text):\n",
        "    text = remove_emojis(text).strip()\n",
        "    text = re.sub(r'http\\S+', '', text).strip()\n",
        "    text = re.sub(r'#', '', text).strip()\n",
        "    text = re.sub(r'@\\S+', '', text).strip()\n",
        "    for punctuation in string.punctuation:\n",
        "        text = text.replace(punctuation, '')\n",
        "    text = text.lower()\n",
        "    text = ''.join(word for word in text if not word.isdigit())\n",
        "    stop_words = set(stopwords.words('spanish'))\n",
        "    word_tokens = word_tokenize(text)\n",
        "    text = ' '.join(w for w in word_tokens if not w in stop_words)\n",
        "    lemmatizer = WordNetLemmatizer()\n",
        "    word_tokens = word_tokenize(text)\n",
        "    lemmatized = [lemmatizer.lemmatize(word) for word in word_tokens]\n",
        "    text = ' '.join(w for w in lemmatized)\n",
        "    return text.strip()"
      ],
      "execution_count": null,
      "outputs": [
        {
          "output_type": "stream",
          "name": "stdout",
          "text": [
            "[nltk_data] Downloading package stopwords to /root/nltk_data...\n",
            "[nltk_data]   Unzipping corpora/stopwords.zip.\n",
            "[nltk_data] Downloading package punkt to /root/nltk_data...\n",
            "[nltk_data]   Unzipping tokenizers/punkt.zip.\n",
            "[nltk_data] Downloading package wordnet to /root/nltk_data...\n",
            "[nltk_data]   Unzipping corpora/wordnet.zip.\n"
          ]
        }
      ]
    },
    {
      "cell_type": "code",
      "metadata": {
        "id": "-SGV8ey0RqLU"
      },
      "source": [
        "df_blue['text_prep'] = df_blue.text.map(lambda x : prep(x))"
      ],
      "execution_count": null,
      "outputs": []
    },
    {
      "cell_type": "code",
      "metadata": {
        "colab": {
          "base_uri": "https://localhost:8080/",
          "height": 35
        },
        "id": "0Q9ZzwElSwHC",
        "outputId": "165a28ce-8e6d-43b9-a506-e6e660f90575"
      },
      "source": [
        "texto = '#lado b covid #pasando @patologías ✍️ gustavo sar httpshola que suba el dolar'\n",
        "prep(texto)"
      ],
      "execution_count": null,
      "outputs": [
        {
          "output_type": "execute_result",
          "data": {
            "application/vnd.google.colaboratory.intrinsic+json": {
              "type": "string"
            },
            "text/plain": [
              "'lado b covid pasando gustavo sar suba dolar'"
            ]
          },
          "metadata": {},
          "execution_count": 43
        }
      ]
    },
    {
      "cell_type": "code",
      "metadata": {
        "id": "Wkj4lHR1cYal"
      },
      "source": [
        ""
      ],
      "execution_count": null,
      "outputs": []
    }
  ]
}