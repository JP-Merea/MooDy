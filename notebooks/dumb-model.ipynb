{
 "cells": [
  {
   "cell_type": "code",
   "execution_count": 1,
   "id": "0e5ad2d2",
   "metadata": {},
   "outputs": [],
   "source": [
    "import pandas as pd\n",
    "import numpy as np \n",
    "from sklearn.model_selection import train_test_split "
   ]
  },
  {
   "cell_type": "code",
   "execution_count": 2,
   "id": "659c2625",
   "metadata": {
    "scrolled": true
   },
   "outputs": [],
   "source": [
    "from transformers import BertModel, BertTokenizer, AdamW, get_linear_schedule_with_warmup\n",
    "import torch\n",
    "import torchvision\n",
    "import numpy as np\n",
    "from sklearn.model_selection import train_test_split\n",
    "from torch import nn, optim\n",
    "from torch.utils.data import Dataset, DataLoader\n",
    "import pandas as pd\n",
    "from textwrap import wrap"
   ]
  },
  {
   "cell_type": "code",
   "execution_count": 3,
   "id": "316bad7d",
   "metadata": {},
   "outputs": [],
   "source": [
    "#!pip install torch"
   ]
  },
  {
   "cell_type": "code",
   "execution_count": 4,
   "id": "318d6b2f",
   "metadata": {},
   "outputs": [
    {
     "name": "stderr",
     "output_type": "stream",
     "text": [
      "/Users/juanpablomereaotermin/.pyenv/versions/3.8.6/envs/MooDy/lib/python3.8/site-packages/IPython/core/interactiveshell.py:3441: DtypeWarning: Columns (0,1,2,3,4,5,6,7,10,11,12,13,14,18,19,20,21,23,24,29,30,31,34,35,36,37,38) have mixed types.Specify dtype option on import or set low_memory=False.\n",
      "  exec(code_obj, self.user_global_ns, self.user_ns)\n"
     ]
    }
   ],
   "source": [
    "df = pd.read_csv('tweets_blue_prep.csv')"
   ]
  },
  {
   "cell_type": "code",
   "execution_count": 5,
   "id": "14fc3c34",
   "metadata": {},
   "outputs": [
    {
     "data": {
      "text/html": [
       "<div>\n",
       "<style scoped>\n",
       "    .dataframe tbody tr th:only-of-type {\n",
       "        vertical-align: middle;\n",
       "    }\n",
       "\n",
       "    .dataframe tbody tr th {\n",
       "        vertical-align: top;\n",
       "    }\n",
       "\n",
       "    .dataframe thead th {\n",
       "        text-align: right;\n",
       "    }\n",
       "</style>\n",
       "<table border=\"1\" class=\"dataframe\">\n",
       "  <thead>\n",
       "    <tr style=\"text-align: right;\">\n",
       "      <th></th>\n",
       "      <th>Unnamed: 0</th>\n",
       "      <th>coordinates</th>\n",
       "      <th>created_at</th>\n",
       "      <th>hashtags</th>\n",
       "      <th>media</th>\n",
       "      <th>urls</th>\n",
       "      <th>favorite_count</th>\n",
       "      <th>id</th>\n",
       "      <th>in_reply_to_screen_name</th>\n",
       "      <th>in_reply_to_status_id</th>\n",
       "      <th>...</th>\n",
       "      <th>user_location</th>\n",
       "      <th>user_name</th>\n",
       "      <th>user_screen_name</th>\n",
       "      <th>user_statuses_count</th>\n",
       "      <th>user_time_zone</th>\n",
       "      <th>user_urls</th>\n",
       "      <th>user_verified</th>\n",
       "      <th>fecha</th>\n",
       "      <th>bid</th>\n",
       "      <th>ask</th>\n",
       "    </tr>\n",
       "  </thead>\n",
       "  <tbody>\n",
       "    <tr>\n",
       "      <th>0</th>\n",
       "      <td>0</td>\n",
       "      <td>NaN</td>\n",
       "      <td>2020-04-27</td>\n",
       "      <td>NaN</td>\n",
       "      <td>NaN</td>\n",
       "      <td>http://m.uy/uc751169</td>\n",
       "      <td>0</td>\n",
       "      <td>1254570018089635840</td>\n",
       "      <td>NaN</td>\n",
       "      <td>NaN</td>\n",
       "      <td>...</td>\n",
       "      <td>Montevideo</td>\n",
       "      <td>Javier Carrizo</td>\n",
       "      <td>JavierCarrizo2</td>\n",
       "      <td>125197.0</td>\n",
       "      <td>NaN</td>\n",
       "      <td>NaN</td>\n",
       "      <td>False</td>\n",
       "      <td>2020-04-27</td>\n",
       "      <td>$ 109.00</td>\n",
       "      <td>$ 118.00</td>\n",
       "    </tr>\n",
       "    <tr>\n",
       "      <th>1</th>\n",
       "      <td>1</td>\n",
       "      <td>NaN</td>\n",
       "      <td>2020-04-27</td>\n",
       "      <td>NaN</td>\n",
       "      <td>NaN</td>\n",
       "      <td>NaN</td>\n",
       "      <td>0</td>\n",
       "      <td>1254567307373879296</td>\n",
       "      <td>NaN</td>\n",
       "      <td>NaN</td>\n",
       "      <td>...</td>\n",
       "      <td>Buenos Aires, Argentina</td>\n",
       "      <td>cris</td>\n",
       "      <td>usacrist_cris</td>\n",
       "      <td>504.0</td>\n",
       "      <td>NaN</td>\n",
       "      <td>NaN</td>\n",
       "      <td>False</td>\n",
       "      <td>2020-04-27</td>\n",
       "      <td>$ 109.00</td>\n",
       "      <td>$ 118.00</td>\n",
       "    </tr>\n",
       "    <tr>\n",
       "      <th>2</th>\n",
       "      <td>2</td>\n",
       "      <td>NaN</td>\n",
       "      <td>2020-04-27</td>\n",
       "      <td>NaN</td>\n",
       "      <td>NaN</td>\n",
       "      <td>https://twitter.com/orchala66/status/125456588...</td>\n",
       "      <td>16</td>\n",
       "      <td>1254567736199516166</td>\n",
       "      <td>NaN</td>\n",
       "      <td>NaN</td>\n",
       "      <td>...</td>\n",
       "      <td>URUGUAY🇺🇾</td>\n",
       "      <td>Elizabeth Izzi 🦋🇺🇾</td>\n",
       "      <td>ElizabethIzzi</td>\n",
       "      <td>57034.0</td>\n",
       "      <td>NaN</td>\n",
       "      <td>NaN</td>\n",
       "      <td>False</td>\n",
       "      <td>2020-04-27</td>\n",
       "      <td>$ 109.00</td>\n",
       "      <td>$ 118.00</td>\n",
       "    </tr>\n",
       "    <tr>\n",
       "      <th>3</th>\n",
       "      <td>3</td>\n",
       "      <td>NaN</td>\n",
       "      <td>2020-04-27</td>\n",
       "      <td>NaN</td>\n",
       "      <td>NaN</td>\n",
       "      <td>https://twitter.com/ESPNUruguay/status/1254490...</td>\n",
       "      <td>1</td>\n",
       "      <td>1254563921450672130</td>\n",
       "      <td>NaN</td>\n",
       "      <td>NaN</td>\n",
       "      <td>...</td>\n",
       "      <td>Montevideo, Uruguay</td>\n",
       "      <td>Santiago</td>\n",
       "      <td>Santi_Bas_00</td>\n",
       "      <td>19463.0</td>\n",
       "      <td>NaN</td>\n",
       "      <td>NaN</td>\n",
       "      <td>False</td>\n",
       "      <td>2020-04-27</td>\n",
       "      <td>$ 109.00</td>\n",
       "      <td>$ 118.00</td>\n",
       "    </tr>\n",
       "    <tr>\n",
       "      <th>4</th>\n",
       "      <td>4</td>\n",
       "      <td>NaN</td>\n",
       "      <td>2020-04-27</td>\n",
       "      <td>NaN</td>\n",
       "      <td>NaN</td>\n",
       "      <td>NaN</td>\n",
       "      <td>0</td>\n",
       "      <td>1254571152829222912</td>\n",
       "      <td>NaN</td>\n",
       "      <td>NaN</td>\n",
       "      <td>...</td>\n",
       "      <td>Punta del Este</td>\n",
       "      <td>Libertad</td>\n",
       "      <td>AnaRuth29310478</td>\n",
       "      <td>2554.0</td>\n",
       "      <td>NaN</td>\n",
       "      <td>NaN</td>\n",
       "      <td>False</td>\n",
       "      <td>2020-04-27</td>\n",
       "      <td>$ 109.00</td>\n",
       "      <td>$ 118.00</td>\n",
       "    </tr>\n",
       "  </tbody>\n",
       "</table>\n",
       "<p>5 rows × 39 columns</p>\n",
       "</div>"
      ],
      "text/plain": [
       "  Unnamed: 0 coordinates  created_at hashtags media  \\\n",
       "0          0         NaN  2020-04-27      NaN   NaN   \n",
       "1          1         NaN  2020-04-27      NaN   NaN   \n",
       "2          2         NaN  2020-04-27      NaN   NaN   \n",
       "3          3         NaN  2020-04-27      NaN   NaN   \n",
       "4          4         NaN  2020-04-27      NaN   NaN   \n",
       "\n",
       "                                                urls favorite_count  \\\n",
       "0                               http://m.uy/uc751169              0   \n",
       "1                                                NaN              0   \n",
       "2  https://twitter.com/orchala66/status/125456588...             16   \n",
       "3  https://twitter.com/ESPNUruguay/status/1254490...              1   \n",
       "4                                                NaN              0   \n",
       "\n",
       "                    id  in_reply_to_screen_name  in_reply_to_status_id  ...  \\\n",
       "0  1254570018089635840                      NaN                    NaN  ...   \n",
       "1  1254567307373879296                      NaN                    NaN  ...   \n",
       "2  1254567736199516166                      NaN                    NaN  ...   \n",
       "3  1254563921450672130                      NaN                    NaN  ...   \n",
       "4  1254571152829222912                      NaN                    NaN  ...   \n",
       "\n",
       "             user_location           user_name user_screen_name  \\\n",
       "0               Montevideo      Javier Carrizo   JavierCarrizo2   \n",
       "1  Buenos Aires, Argentina                cris    usacrist_cris   \n",
       "2                URUGUAY🇺🇾  Elizabeth Izzi 🦋🇺🇾    ElizabethIzzi   \n",
       "3      Montevideo, Uruguay            Santiago     Santi_Bas_00   \n",
       "4           Punta del Este            Libertad  AnaRuth29310478   \n",
       "\n",
       "  user_statuses_count user_time_zone  user_urls  user_verified       fecha  \\\n",
       "0            125197.0            NaN        NaN          False  2020-04-27   \n",
       "1               504.0            NaN        NaN          False  2020-04-27   \n",
       "2             57034.0            NaN        NaN          False  2020-04-27   \n",
       "3             19463.0            NaN        NaN          False  2020-04-27   \n",
       "4              2554.0            NaN        NaN          False  2020-04-27   \n",
       "\n",
       "          bid        ask  \n",
       "0   $ 109.00    $ 118.00  \n",
       "1   $ 109.00    $ 118.00  \n",
       "2   $ 109.00    $ 118.00  \n",
       "3   $ 109.00    $ 118.00  \n",
       "4   $ 109.00    $ 118.00  \n",
       "\n",
       "[5 rows x 39 columns]"
      ]
     },
     "execution_count": 5,
     "metadata": {},
     "output_type": "execute_result"
    }
   ],
   "source": [
    "df.head()"
   ]
  },
  {
   "cell_type": "code",
   "execution_count": 6,
   "id": "99421888",
   "metadata": {},
   "outputs": [],
   "source": [
    "fd = df[['created_at',\n",
    "    'urls',\n",
    "    'hashtags',\n",
    "    'user_favourites_count',\n",
    "    'retweet_count',\n",
    "    'user_followers_count',\n",
    "    'user_screen_name',\n",
    "    'user_name',\n",
    "    'user_verified',\n",
    "    'text',\n",
    "    'bid',\n",
    "    'ask']]"
   ]
  },
  {
   "cell_type": "code",
   "execution_count": 7,
   "id": "03af1222",
   "metadata": {},
   "outputs": [
    {
     "data": {
      "text/html": [
       "<div>\n",
       "<style scoped>\n",
       "    .dataframe tbody tr th:only-of-type {\n",
       "        vertical-align: middle;\n",
       "    }\n",
       "\n",
       "    .dataframe tbody tr th {\n",
       "        vertical-align: top;\n",
       "    }\n",
       "\n",
       "    .dataframe thead th {\n",
       "        text-align: right;\n",
       "    }\n",
       "</style>\n",
       "<table border=\"1\" class=\"dataframe\">\n",
       "  <thead>\n",
       "    <tr style=\"text-align: right;\">\n",
       "      <th></th>\n",
       "      <th>created_at</th>\n",
       "      <th>bid</th>\n",
       "      <th>ask</th>\n",
       "    </tr>\n",
       "  </thead>\n",
       "  <tbody>\n",
       "    <tr>\n",
       "      <th>386072</th>\n",
       "      <td>2020-10-06</td>\n",
       "      <td>NaN</td>\n",
       "      <td>NaN</td>\n",
       "    </tr>\n",
       "    <tr>\n",
       "      <th>307396</th>\n",
       "      <td>2020-09-06</td>\n",
       "      <td>NaN</td>\n",
       "      <td>NaN</td>\n",
       "    </tr>\n",
       "    <tr>\n",
       "      <th>503407</th>\n",
       "      <td>2020-10-26</td>\n",
       "      <td>$ 184.40</td>\n",
       "      <td>$ 190.00</td>\n",
       "    </tr>\n",
       "    <tr>\n",
       "      <th>4750</th>\n",
       "      <td>2020-04-25</td>\n",
       "      <td>NaN</td>\n",
       "      <td>NaN</td>\n",
       "    </tr>\n",
       "    <tr>\n",
       "      <th>428193</th>\n",
       "      <td>2020-10-08</td>\n",
       "      <td>$ 152.45</td>\n",
       "      <td>$ 158.00</td>\n",
       "    </tr>\n",
       "    <tr>\n",
       "      <th>1035957</th>\n",
       "      <td>2021-04-19</td>\n",
       "      <td>$ 138.80</td>\n",
       "      <td>$ 143.00</td>\n",
       "    </tr>\n",
       "    <tr>\n",
       "      <th>121952</th>\n",
       "      <td>2020-06-22</td>\n",
       "      <td>$ 118.55</td>\n",
       "      <td>$ 126.90</td>\n",
       "    </tr>\n",
       "    <tr>\n",
       "      <th>1256055</th>\n",
       "      <td>2021-06-27</td>\n",
       "      <td>NaN</td>\n",
       "      <td>NaN</td>\n",
       "    </tr>\n",
       "    <tr>\n",
       "      <th>503579</th>\n",
       "      <td>2020-10-26</td>\n",
       "      <td>$ 184.40</td>\n",
       "      <td>$ 190.00</td>\n",
       "    </tr>\n",
       "    <tr>\n",
       "      <th>876102</th>\n",
       "      <td>2021-03-13</td>\n",
       "      <td>NaN</td>\n",
       "      <td>NaN</td>\n",
       "    </tr>\n",
       "    <tr>\n",
       "      <th>1289740</th>\n",
       "      <td>2021-07-15</td>\n",
       "      <td>$ 173.80</td>\n",
       "      <td>$ 178.00</td>\n",
       "    </tr>\n",
       "    <tr>\n",
       "      <th>390368</th>\n",
       "      <td>2020-10-06</td>\n",
       "      <td>NaN</td>\n",
       "      <td>NaN</td>\n",
       "    </tr>\n",
       "    <tr>\n",
       "      <th>1039359</th>\n",
       "      <td>2021-04-19</td>\n",
       "      <td>$ 138.80</td>\n",
       "      <td>$ 143.00</td>\n",
       "    </tr>\n",
       "    <tr>\n",
       "      <th>290963</th>\n",
       "      <td>2020-09-03</td>\n",
       "      <td>$ 130.25</td>\n",
       "      <td>$ 133.95</td>\n",
       "    </tr>\n",
       "    <tr>\n",
       "      <th>417941</th>\n",
       "      <td>2020-10-07</td>\n",
       "      <td>NaN</td>\n",
       "      <td>NaN</td>\n",
       "    </tr>\n",
       "  </tbody>\n",
       "</table>\n",
       "</div>"
      ],
      "text/plain": [
       "         created_at         bid        ask\n",
       "386072   2020-10-06         NaN        NaN\n",
       "307396   2020-09-06         NaN        NaN\n",
       "503407   2020-10-26   $ 184.40    $ 190.00\n",
       "4750     2020-04-25         NaN        NaN\n",
       "428193   2020-10-08   $ 152.45    $ 158.00\n",
       "1035957  2021-04-19   $ 138.80    $ 143.00\n",
       "121952   2020-06-22   $ 118.55    $ 126.90\n",
       "1256055  2021-06-27         NaN        NaN\n",
       "503579   2020-10-26   $ 184.40    $ 190.00\n",
       "876102   2021-03-13         NaN        NaN\n",
       "1289740  2021-07-15   $ 173.80    $ 178.00\n",
       "390368   2020-10-06         NaN        NaN\n",
       "1039359  2021-04-19   $ 138.80    $ 143.00\n",
       "290963   2020-09-03   $ 130.25    $ 133.95\n",
       "417941   2020-10-07         NaN        NaN"
      ]
     },
     "execution_count": 7,
     "metadata": {},
     "output_type": "execute_result"
    }
   ],
   "source": [
    "ai = fd[['created_at','bid','ask']]\n",
    "ai.sample(15)"
   ]
  },
  {
   "cell_type": "code",
   "execution_count": 8,
   "id": "ec1dd4e6",
   "metadata": {},
   "outputs": [],
   "source": [
    "X_train,X_test = train_test_split(fd, test_size=0.90, random_state=42)"
   ]
  },
  {
   "cell_type": "code",
   "execution_count": 9,
   "id": "7cc08496",
   "metadata": {},
   "outputs": [
    {
     "data": {
      "text/html": [
       "<div>\n",
       "<style scoped>\n",
       "    .dataframe tbody tr th:only-of-type {\n",
       "        vertical-align: middle;\n",
       "    }\n",
       "\n",
       "    .dataframe tbody tr th {\n",
       "        vertical-align: top;\n",
       "    }\n",
       "\n",
       "    .dataframe thead th {\n",
       "        text-align: right;\n",
       "    }\n",
       "</style>\n",
       "<table border=\"1\" class=\"dataframe\">\n",
       "  <thead>\n",
       "    <tr style=\"text-align: right;\">\n",
       "      <th></th>\n",
       "      <th>created_at</th>\n",
       "      <th>urls</th>\n",
       "      <th>hashtags</th>\n",
       "      <th>user_favourites_count</th>\n",
       "      <th>retweet_count</th>\n",
       "      <th>user_followers_count</th>\n",
       "      <th>user_screen_name</th>\n",
       "      <th>user_name</th>\n",
       "      <th>user_verified</th>\n",
       "      <th>text</th>\n",
       "      <th>bid</th>\n",
       "      <th>ask</th>\n",
       "    </tr>\n",
       "  </thead>\n",
       "  <tbody>\n",
       "    <tr>\n",
       "      <th>128330</th>\n",
       "      <td>2020-06-24</td>\n",
       "      <td>NaN</td>\n",
       "      <td>DonáPlasma</td>\n",
       "      <td>43006.0</td>\n",
       "      <td>0.0</td>\n",
       "      <td>2565.0</td>\n",
       "      <td>lucioaberastain</td>\n",
       "      <td>Lucio Pedro Aberastain Ponte</td>\n",
       "      <td>False</td>\n",
       "      <td>unidad ciudadana máximo kirchner cel apoyo d o...</td>\n",
       "      <td>$ 119.65</td>\n",
       "      <td>$ 127.95</td>\n",
       "    </tr>\n",
       "    <tr>\n",
       "      <th>444301</th>\n",
       "      <td>2020-10-11</td>\n",
       "      <td>NaN</td>\n",
       "      <td>NaN</td>\n",
       "      <td>NaN</td>\n",
       "      <td>0.0</td>\n",
       "      <td>NaN</td>\n",
       "      <td>NaN</td>\n",
       "      <td>NaN</td>\n",
       "      <td>NaN</td>\n",
       "      <td>nose siendo fumadora todavía morí covidy sigo ...</td>\n",
       "      <td>NaN</td>\n",
       "      <td>NaN</td>\n",
       "    </tr>\n",
       "    <tr>\n",
       "      <th>702157</th>\n",
       "      <td>2020-12-21</td>\n",
       "      <td>https://twitter.com/DiegoMTroffe/status/134083...</td>\n",
       "      <td>NaN</td>\n",
       "      <td>40944.0</td>\n",
       "      <td>3.0</td>\n",
       "      <td>1244.0</td>\n",
       "      <td>agusscascella</td>\n",
       "      <td>AGUSTINAAAA</td>\n",
       "      <td>False</td>\n",
       "      <td>nuevo año nuevo dijo covid</td>\n",
       "      <td>$ 144.20</td>\n",
       "      <td>$ 150.00</td>\n",
       "    </tr>\n",
       "    <tr>\n",
       "      <th>920387</th>\n",
       "      <td>2021-03-29</td>\n",
       "      <td>NaN</td>\n",
       "      <td>Covid_19</td>\n",
       "      <td>8918.0</td>\n",
       "      <td>0.0</td>\n",
       "      <td>3746.0</td>\n",
       "      <td>egodoyvallejos</td>\n",
       "      <td>Esteban</td>\n",
       "      <td>True</td>\n",
       "      <td>casos confirmados covid argentina cosa complic...</td>\n",
       "      <td>$ 137.80</td>\n",
       "      <td>$ 142.00</td>\n",
       "    </tr>\n",
       "    <tr>\n",
       "      <th>1045223</th>\n",
       "      <td>2021-04-21</td>\n",
       "      <td>https://twitter.com/realmadrid/status/13848866...</td>\n",
       "      <td>NaN</td>\n",
       "      <td>30628.0</td>\n",
       "      <td>0.0</td>\n",
       "      <td>1951.0</td>\n",
       "      <td>DiegoAlbornoz8</td>\n",
       "      <td>Diego Albornoz</td>\n",
       "      <td>False</td>\n",
       "      <td>federico valverde dado positivo test covid pro...</td>\n",
       "      <td>$ 139.80</td>\n",
       "      <td>$ 144.00</td>\n",
       "    </tr>\n",
       "    <tr>\n",
       "      <th>...</th>\n",
       "      <td>...</td>\n",
       "      <td>...</td>\n",
       "      <td>...</td>\n",
       "      <td>...</td>\n",
       "      <td>...</td>\n",
       "      <td>...</td>\n",
       "      <td>...</td>\n",
       "      <td>...</td>\n",
       "      <td>...</td>\n",
       "      <td>...</td>\n",
       "      <td>...</td>\n",
       "      <td>...</td>\n",
       "    </tr>\n",
       "    <tr>\n",
       "      <th>110268</th>\n",
       "      <td>2020-06-17</td>\n",
       "      <td>https://www.panasenutah.com/2020/06/17/utah-do...</td>\n",
       "      <td>17jun</td>\n",
       "      <td>1153.0</td>\n",
       "      <td>0.0</td>\n",
       "      <td>8215.0</td>\n",
       "      <td>jacmibelrosas</td>\n",
       "      <td>jacmibelrosas</td>\n",
       "      <td>False</td>\n",
       "      <td>jun utah do nuevas muertes covid nuevos casos</td>\n",
       "      <td>$ 115.75</td>\n",
       "      <td>$ 124.05</td>\n",
       "    </tr>\n",
       "    <tr>\n",
       "      <th>259178</th>\n",
       "      <td>2020-08-22</td>\n",
       "      <td>NaN</td>\n",
       "      <td>NaN</td>\n",
       "      <td>11973.0</td>\n",
       "      <td>40.0</td>\n",
       "      <td>14715.0</td>\n",
       "      <td>danielafurst</td>\n",
       "      <td>Daniela Furst</td>\n",
       "      <td>True</td>\n",
       "      <td>gente elijo juntarme miedo covid sino mala onda</td>\n",
       "      <td>NaN</td>\n",
       "      <td>NaN</td>\n",
       "    </tr>\n",
       "    <tr>\n",
       "      <th>131932</th>\n",
       "      <td>2020-06-25</td>\n",
       "      <td>NaN</td>\n",
       "      <td>NaN</td>\n",
       "      <td>772.0</td>\n",
       "      <td>2.0</td>\n",
       "      <td>3705.0</td>\n",
       "      <td>UNDEFArgentina</td>\n",
       "      <td>UNDEF</td>\n",
       "      <td>True</td>\n",
       "      <td>ii jornada actualidad aeronáutica impacto covi...</td>\n",
       "      <td>$ 119.65</td>\n",
       "      <td>$ 127.95</td>\n",
       "    </tr>\n",
       "    <tr>\n",
       "      <th>671155</th>\n",
       "      <td>2020-12-05</td>\n",
       "      <td>NaN</td>\n",
       "      <td>NaN</td>\n",
       "      <td>1193.0</td>\n",
       "      <td>0.0</td>\n",
       "      <td>127.0</td>\n",
       "      <td>__AbigailR___</td>\n",
       "      <td>Noee✿</td>\n",
       "      <td>False</td>\n",
       "      <td>llegue diciembre notificado policia haber covi...</td>\n",
       "      <td>NaN</td>\n",
       "      <td>NaN</td>\n",
       "    </tr>\n",
       "    <tr>\n",
       "      <th>121958</th>\n",
       "      <td>2020-06-22</td>\n",
       "      <td>https://www.clarin.com/economia/trabajo-perfil...</td>\n",
       "      <td>NaN</td>\n",
       "      <td>7586.0</td>\n",
       "      <td>1.0</td>\n",
       "      <td>114.0</td>\n",
       "      <td>fjudzon</td>\n",
       "      <td>fernando</td>\n",
       "      <td>False</td>\n",
       "      <td>comparto informe publicado económico clarín co...</td>\n",
       "      <td>$ 118.55</td>\n",
       "      <td>$ 126.90</td>\n",
       "    </tr>\n",
       "  </tbody>\n",
       "</table>\n",
       "<p>135718 rows × 12 columns</p>\n",
       "</div>"
      ],
      "text/plain": [
       "         created_at                                               urls  \\\n",
       "128330   2020-06-24                                                NaN   \n",
       "444301   2020-10-11                                                NaN   \n",
       "702157   2020-12-21  https://twitter.com/DiegoMTroffe/status/134083...   \n",
       "920387   2021-03-29                                                NaN   \n",
       "1045223  2021-04-21  https://twitter.com/realmadrid/status/13848866...   \n",
       "...             ...                                                ...   \n",
       "110268   2020-06-17  https://www.panasenutah.com/2020/06/17/utah-do...   \n",
       "259178   2020-08-22                                                NaN   \n",
       "131932   2020-06-25                                                NaN   \n",
       "671155   2020-12-05                                                NaN   \n",
       "121958   2020-06-22  https://www.clarin.com/economia/trabajo-perfil...   \n",
       "\n",
       "           hashtags  user_favourites_count  retweet_count  \\\n",
       "128330   DonáPlasma                43006.0            0.0   \n",
       "444301          NaN                    NaN            0.0   \n",
       "702157          NaN                40944.0            3.0   \n",
       "920387     Covid_19                 8918.0            0.0   \n",
       "1045223         NaN                30628.0            0.0   \n",
       "...             ...                    ...            ...   \n",
       "110268        17jun                 1153.0            0.0   \n",
       "259178          NaN                11973.0           40.0   \n",
       "131932          NaN                  772.0            2.0   \n",
       "671155          NaN                 1193.0            0.0   \n",
       "121958          NaN                 7586.0            1.0   \n",
       "\n",
       "         user_followers_count user_screen_name                     user_name  \\\n",
       "128330                 2565.0  lucioaberastain  Lucio Pedro Aberastain Ponte   \n",
       "444301                    NaN              NaN                           NaN   \n",
       "702157                 1244.0    agusscascella                   AGUSTINAAAA   \n",
       "920387                 3746.0   egodoyvallejos                       Esteban   \n",
       "1045223                1951.0   DiegoAlbornoz8                Diego Albornoz   \n",
       "...                       ...              ...                           ...   \n",
       "110268                 8215.0    jacmibelrosas                 jacmibelrosas   \n",
       "259178                14715.0     danielafurst                 Daniela Furst   \n",
       "131932                 3705.0   UNDEFArgentina                         UNDEF   \n",
       "671155                  127.0    __AbigailR___                         Noee✿   \n",
       "121958                  114.0          fjudzon                      fernando   \n",
       "\n",
       "        user_verified                                               text  \\\n",
       "128330          False  unidad ciudadana máximo kirchner cel apoyo d o...   \n",
       "444301            NaN  nose siendo fumadora todavía morí covidy sigo ...   \n",
       "702157          False                         nuevo año nuevo dijo covid   \n",
       "920387           True  casos confirmados covid argentina cosa complic...   \n",
       "1045223         False  federico valverde dado positivo test covid pro...   \n",
       "...               ...                                                ...   \n",
       "110268          False      jun utah do nuevas muertes covid nuevos casos   \n",
       "259178           True    gente elijo juntarme miedo covid sino mala onda   \n",
       "131932           True  ii jornada actualidad aeronáutica impacto covi...   \n",
       "671155          False  llegue diciembre notificado policia haber covi...   \n",
       "121958          False  comparto informe publicado económico clarín co...   \n",
       "\n",
       "                bid        ask  \n",
       "128330    $ 119.65    $ 127.95  \n",
       "444301          NaN        NaN  \n",
       "702157    $ 144.20    $ 150.00  \n",
       "920387    $ 137.80    $ 142.00  \n",
       "1045223   $ 139.80    $ 144.00  \n",
       "...             ...        ...  \n",
       "110268    $ 115.75    $ 124.05  \n",
       "259178          NaN        NaN  \n",
       "131932    $ 119.65    $ 127.95  \n",
       "671155          NaN        NaN  \n",
       "121958    $ 118.55    $ 126.90  \n",
       "\n",
       "[135718 rows x 12 columns]"
      ]
     },
     "execution_count": 9,
     "metadata": {},
     "output_type": "execute_result"
    }
   ],
   "source": [
    "X_train"
   ]
  },
  {
   "cell_type": "code",
   "execution_count": 10,
   "id": "3cca990d",
   "metadata": {
    "scrolled": true
   },
   "outputs": [
    {
     "data": {
      "text/plain": [
       "created_at                object\n",
       "urls                      object\n",
       "hashtags                  object\n",
       "user_favourites_count    float64\n",
       "retweet_count            float64\n",
       "user_followers_count     float64\n",
       "user_screen_name          object\n",
       "user_name                 object\n",
       "user_verified             object\n",
       "text                      object\n",
       "bid                       object\n",
       "ask                       object\n",
       "dtype: object"
      ]
     },
     "execution_count": 10,
     "metadata": {},
     "output_type": "execute_result"
    }
   ],
   "source": [
    "X_train.dtypes"
   ]
  },
  {
   "cell_type": "code",
   "execution_count": 11,
   "id": "ecdf90bb",
   "metadata": {},
   "outputs": [
    {
     "data": {
      "text/plain": [
       "'discurso kirchnerista culpa presidente culpó junto cambio medios manifestantes covid quejó herencia recibida omitiendo últimos veinte años vice parte gobierno dieciséis'"
      ]
     },
     "execution_count": 11,
     "metadata": {},
     "output_type": "execute_result"
    }
   ],
   "source": [
    "a = X_train.iloc[89,-3]\n",
    "b = X_train.text\n",
    "a"
   ]
  },
  {
   "cell_type": "code",
   "execution_count": 12,
   "id": "6b64da0b",
   "metadata": {},
   "outputs": [
    {
     "name": "stdout",
     "output_type": "stream",
     "text": [
      "cpu\n"
     ]
    }
   ],
   "source": [
    "# Inicialización\n",
    "RANDOM_SEED = 42\n",
    "MAX_LEN = 200\n",
    "BATCH_SIZE = 16\n",
    "NCLASSES = 2\n",
    "\n",
    "np.random.seed(RANDOM_SEED)\n",
    "torch.manual_seed(RANDOM_SEED)\n",
    "device = torch.device(\"cuda:0\" if torch.cuda.is_available() else \"cpu\")\n",
    "print(device)"
   ]
  },
  {
   "cell_type": "code",
   "execution_count": 13,
   "id": "e90fc5c0",
   "metadata": {},
   "outputs": [],
   "source": [
    "import transformers "
   ]
  },
  {
   "cell_type": "code",
   "execution_count": 45,
   "id": "8605958d",
   "metadata": {},
   "outputs": [],
   "source": [
    "text = a"
   ]
  },
  {
   "cell_type": "code",
   "execution_count": 75,
   "id": "af07d73e",
   "metadata": {
    "scrolled": true
   },
   "outputs": [
    {
     "ename": "HTTPError",
     "evalue": "404 Client Error: Not Found for url: https://huggingface.co/api/models/BETO-cased",
     "output_type": "error",
     "traceback": [
      "\u001b[0;31m---------------------------------------------------------------------------\u001b[0m",
      "\u001b[0;31mHTTPError\u001b[0m                                 Traceback (most recent call last)",
      "\u001b[0;32m/var/folders/9t/4q21kp8s6vb49kb4fvt2l39h0000gn/T/ipykernel_59304/1927741308.py\u001b[0m in \u001b[0;36m<module>\u001b[0;34m\u001b[0m\n\u001b[1;32m      1\u001b[0m \u001b[0mPRE_TRAINED_MODEL_NAME\u001b[0m \u001b[0;34m=\u001b[0m \u001b[0;34m'BETO-cased'\u001b[0m\u001b[0;34m\u001b[0m\u001b[0;34m\u001b[0m\u001b[0m\n\u001b[0;32m----> 2\u001b[0;31m \u001b[0mtokenizer\u001b[0m \u001b[0;34m=\u001b[0m \u001b[0mtransformers\u001b[0m\u001b[0;34m.\u001b[0m\u001b[0mBertTokenizer\u001b[0m\u001b[0;34m.\u001b[0m\u001b[0mfrom_pretrained\u001b[0m\u001b[0;34m(\u001b[0m\u001b[0mPRE_TRAINED_MODEL_NAME\u001b[0m \u001b[0;34m,\u001b[0m \u001b[0mdo_lower_case\u001b[0m \u001b[0;34m=\u001b[0m\u001b[0;32mTrue\u001b[0m\u001b[0;34m)\u001b[0m\u001b[0;34m\u001b[0m\u001b[0;34m\u001b[0m\u001b[0m\n\u001b[0m",
      "\u001b[0;32m~/.pyenv/versions/3.8.6/envs/MooDy/lib/python3.8/site-packages/transformers/tokenization_utils_base.py\u001b[0m in \u001b[0;36mfrom_pretrained\u001b[0;34m(cls, pretrained_model_name_or_path, *init_inputs, **kwargs)\u001b[0m\n\u001b[1;32m   1647\u001b[0m         \u001b[0;32melse\u001b[0m\u001b[0;34m:\u001b[0m\u001b[0;34m\u001b[0m\u001b[0;34m\u001b[0m\u001b[0m\n\u001b[1;32m   1648\u001b[0m             \u001b[0;31m# At this point pretrained_model_name_or_path is either a directory or a model identifier name\u001b[0m\u001b[0;34m\u001b[0m\u001b[0;34m\u001b[0m\u001b[0;34m\u001b[0m\u001b[0m\n\u001b[0;32m-> 1649\u001b[0;31m             fast_tokenizer_file = get_fast_tokenizer_file(\n\u001b[0m\u001b[1;32m   1650\u001b[0m                 \u001b[0mpretrained_model_name_or_path\u001b[0m\u001b[0;34m,\u001b[0m\u001b[0;34m\u001b[0m\u001b[0;34m\u001b[0m\u001b[0m\n\u001b[1;32m   1651\u001b[0m                 \u001b[0mrevision\u001b[0m\u001b[0;34m=\u001b[0m\u001b[0mrevision\u001b[0m\u001b[0;34m,\u001b[0m\u001b[0;34m\u001b[0m\u001b[0;34m\u001b[0m\u001b[0m\n",
      "\u001b[0;32m~/.pyenv/versions/3.8.6/envs/MooDy/lib/python3.8/site-packages/transformers/tokenization_utils_base.py\u001b[0m in \u001b[0;36mget_fast_tokenizer_file\u001b[0;34m(path_or_repo, revision, use_auth_token, local_files_only)\u001b[0m\n\u001b[1;32m   3423\u001b[0m     \"\"\"\n\u001b[1;32m   3424\u001b[0m     \u001b[0;31m# Inspect all files from the repo/folder.\u001b[0m\u001b[0;34m\u001b[0m\u001b[0;34m\u001b[0m\u001b[0;34m\u001b[0m\u001b[0m\n\u001b[0;32m-> 3425\u001b[0;31m     all_files = get_list_of_files(\n\u001b[0m\u001b[1;32m   3426\u001b[0m         \u001b[0mpath_or_repo\u001b[0m\u001b[0;34m,\u001b[0m \u001b[0mrevision\u001b[0m\u001b[0;34m=\u001b[0m\u001b[0mrevision\u001b[0m\u001b[0;34m,\u001b[0m \u001b[0muse_auth_token\u001b[0m\u001b[0;34m=\u001b[0m\u001b[0muse_auth_token\u001b[0m\u001b[0;34m,\u001b[0m \u001b[0mlocal_files_only\u001b[0m\u001b[0;34m=\u001b[0m\u001b[0mlocal_files_only\u001b[0m\u001b[0;34m\u001b[0m\u001b[0;34m\u001b[0m\u001b[0m\n\u001b[1;32m   3427\u001b[0m     )\n",
      "\u001b[0;32m~/.pyenv/versions/3.8.6/envs/MooDy/lib/python3.8/site-packages/transformers/file_utils.py\u001b[0m in \u001b[0;36mget_list_of_files\u001b[0;34m(path_or_repo, revision, use_auth_token, local_files_only)\u001b[0m\n\u001b[1;32m   1728\u001b[0m     \u001b[0;32melse\u001b[0m\u001b[0;34m:\u001b[0m\u001b[0;34m\u001b[0m\u001b[0;34m\u001b[0m\u001b[0m\n\u001b[1;32m   1729\u001b[0m         \u001b[0mtoken\u001b[0m \u001b[0;34m=\u001b[0m \u001b[0;32mNone\u001b[0m\u001b[0;34m\u001b[0m\u001b[0;34m\u001b[0m\u001b[0m\n\u001b[0;32m-> 1730\u001b[0;31m     model_info = HfApi(endpoint=HUGGINGFACE_CO_RESOLVE_ENDPOINT).model_info(\n\u001b[0m\u001b[1;32m   1731\u001b[0m         \u001b[0mpath_or_repo\u001b[0m\u001b[0;34m,\u001b[0m \u001b[0mrevision\u001b[0m\u001b[0;34m=\u001b[0m\u001b[0mrevision\u001b[0m\u001b[0;34m,\u001b[0m \u001b[0mtoken\u001b[0m\u001b[0;34m=\u001b[0m\u001b[0mtoken\u001b[0m\u001b[0;34m\u001b[0m\u001b[0;34m\u001b[0m\u001b[0m\n\u001b[1;32m   1732\u001b[0m     )\n",
      "\u001b[0;32m~/.pyenv/versions/3.8.6/envs/MooDy/lib/python3.8/site-packages/huggingface_hub/hf_api.py\u001b[0m in \u001b[0;36mmodel_info\u001b[0;34m(self, repo_id, revision, token)\u001b[0m\n\u001b[1;32m    501\u001b[0m         )\n\u001b[1;32m    502\u001b[0m         \u001b[0mr\u001b[0m \u001b[0;34m=\u001b[0m \u001b[0mrequests\u001b[0m\u001b[0;34m.\u001b[0m\u001b[0mget\u001b[0m\u001b[0;34m(\u001b[0m\u001b[0mpath\u001b[0m\u001b[0;34m,\u001b[0m \u001b[0mheaders\u001b[0m\u001b[0;34m=\u001b[0m\u001b[0mheaders\u001b[0m\u001b[0;34m)\u001b[0m\u001b[0;34m\u001b[0m\u001b[0;34m\u001b[0m\u001b[0m\n\u001b[0;32m--> 503\u001b[0;31m         \u001b[0mr\u001b[0m\u001b[0;34m.\u001b[0m\u001b[0mraise_for_status\u001b[0m\u001b[0;34m(\u001b[0m\u001b[0;34m)\u001b[0m\u001b[0;34m\u001b[0m\u001b[0;34m\u001b[0m\u001b[0m\n\u001b[0m\u001b[1;32m    504\u001b[0m         \u001b[0md\u001b[0m \u001b[0;34m=\u001b[0m \u001b[0mr\u001b[0m\u001b[0;34m.\u001b[0m\u001b[0mjson\u001b[0m\u001b[0;34m(\u001b[0m\u001b[0;34m)\u001b[0m\u001b[0;34m\u001b[0m\u001b[0;34m\u001b[0m\u001b[0m\n\u001b[1;32m    505\u001b[0m         \u001b[0;32mreturn\u001b[0m \u001b[0mModelInfo\u001b[0m\u001b[0;34m(\u001b[0m\u001b[0;34m**\u001b[0m\u001b[0md\u001b[0m\u001b[0;34m)\u001b[0m\u001b[0;34m\u001b[0m\u001b[0;34m\u001b[0m\u001b[0m\n",
      "\u001b[0;32m~/.pyenv/versions/3.8.6/envs/MooDy/lib/python3.8/site-packages/requests/models.py\u001b[0m in \u001b[0;36mraise_for_status\u001b[0;34m(self)\u001b[0m\n\u001b[1;32m    951\u001b[0m \u001b[0;34m\u001b[0m\u001b[0m\n\u001b[1;32m    952\u001b[0m         \u001b[0;32mif\u001b[0m \u001b[0mhttp_error_msg\u001b[0m\u001b[0;34m:\u001b[0m\u001b[0;34m\u001b[0m\u001b[0;34m\u001b[0m\u001b[0m\n\u001b[0;32m--> 953\u001b[0;31m             \u001b[0;32mraise\u001b[0m \u001b[0mHTTPError\u001b[0m\u001b[0;34m(\u001b[0m\u001b[0mhttp_error_msg\u001b[0m\u001b[0;34m,\u001b[0m \u001b[0mresponse\u001b[0m\u001b[0;34m=\u001b[0m\u001b[0mself\u001b[0m\u001b[0;34m)\u001b[0m\u001b[0;34m\u001b[0m\u001b[0;34m\u001b[0m\u001b[0m\n\u001b[0m\u001b[1;32m    954\u001b[0m \u001b[0;34m\u001b[0m\u001b[0m\n\u001b[1;32m    955\u001b[0m     \u001b[0;32mdef\u001b[0m \u001b[0mclose\u001b[0m\u001b[0;34m(\u001b[0m\u001b[0mself\u001b[0m\u001b[0;34m)\u001b[0m\u001b[0;34m:\u001b[0m\u001b[0;34m\u001b[0m\u001b[0;34m\u001b[0m\u001b[0m\n",
      "\u001b[0;31mHTTPError\u001b[0m: 404 Client Error: Not Found for url: https://huggingface.co/api/models/BETO-cased"
     ]
    }
   ],
   "source": [
    "PRE_TRAINED_MODEL_NAME = 'BETO-cased'\n",
    "tokenizer = transformers.BertTokenizer.from_pretrained(PRE_TRAINED_MODEL_NAME , do_lower_case =True)"
   ]
  },
  {
   "cell_type": "code",
   "execution_count": 74,
   "id": "dd2ca4ba",
   "metadata": {},
   "outputs": [
    {
     "ename": "AttributeError",
     "evalue": "'BasicTokenizer' object has no attribute 'convert_tokens_to_ids'",
     "output_type": "error",
     "traceback": [
      "\u001b[0;31m---------------------------------------------------------------------------\u001b[0m",
      "\u001b[0;31mAttributeError\u001b[0m                            Traceback (most recent call last)",
      "\u001b[0;32m/var/folders/9t/4q21kp8s6vb49kb4fvt2l39h0000gn/T/ipykernel_59304/1204003498.py\u001b[0m in \u001b[0;36m<module>\u001b[0;34m\u001b[0m\n\u001b[1;32m      1\u001b[0m \u001b[0mtokens\u001b[0m \u001b[0;34m=\u001b[0m \u001b[0mtokenizer\u001b[0m\u001b[0;34m.\u001b[0m\u001b[0mbasic_tokenizer\u001b[0m\u001b[0;34m.\u001b[0m\u001b[0mtokenize\u001b[0m\u001b[0;34m(\u001b[0m\u001b[0;34m(\u001b[0m\u001b[0mtxt\u001b[0m\u001b[0;34m)\u001b[0m\u001b[0;34m)\u001b[0m\u001b[0;34m\u001b[0m\u001b[0;34m\u001b[0m\u001b[0m\n\u001b[0;32m----> 2\u001b[0;31m \u001b[0mtoken_ids\u001b[0m \u001b[0;34m=\u001b[0m \u001b[0mtokenizer\u001b[0m\u001b[0;34m.\u001b[0m\u001b[0mbasic_tokenizer\u001b[0m\u001b[0;34m.\u001b[0m\u001b[0mconvert_tokens_to_ids\u001b[0m\u001b[0;34m(\u001b[0m\u001b[0mtokens\u001b[0m\u001b[0;34m)\u001b[0m\u001b[0;34m\u001b[0m\u001b[0;34m\u001b[0m\u001b[0m\n\u001b[0m\u001b[1;32m      3\u001b[0m \u001b[0mprint\u001b[0m\u001b[0;34m(\u001b[0m\u001b[0;34m'Frase: '\u001b[0m\u001b[0;34m,\u001b[0m \u001b[0mtxt\u001b[0m\u001b[0;34m)\u001b[0m\u001b[0;34m\u001b[0m\u001b[0;34m\u001b[0m\u001b[0m\n\u001b[1;32m      4\u001b[0m \u001b[0mprint\u001b[0m\u001b[0;34m(\u001b[0m\u001b[0;34m'Tokens: '\u001b[0m\u001b[0;34m,\u001b[0m \u001b[0mtokens\u001b[0m\u001b[0;34m)\u001b[0m\u001b[0;34m\u001b[0m\u001b[0;34m\u001b[0m\u001b[0m\n\u001b[1;32m      5\u001b[0m \u001b[0mprint\u001b[0m\u001b[0;34m(\u001b[0m\u001b[0;34m'Tokens numéricos: '\u001b[0m\u001b[0;34m,\u001b[0m \u001b[0mtoken_ids\u001b[0m\u001b[0;34m)\u001b[0m\u001b[0;34m\u001b[0m\u001b[0;34m\u001b[0m\u001b[0m\n",
      "\u001b[0;31mAttributeError\u001b[0m: 'BasicTokenizer' object has no attribute 'convert_tokens_to_ids'"
     ]
    }
   ],
   "source": [
    "tokens = tokenizer.basic_tokenizer.tokenize((txt))\n",
    "token_ids = tokenizer.basic_tokenizer.convert_tokens_to_ids(tokens)\n",
    "print('Frase: ', txt)\n",
    "print('Tokens: ', tokens)\n",
    "print('Tokens numéricos: ', token_ids)"
   ]
  },
  {
   "cell_type": "code",
   "execution_count": 69,
   "id": "87819b2b",
   "metadata": {},
   "outputs": [],
   "source": [
    "encoding = tokenizer.encode_plus(\n",
    "    txt,\n",
    "    max_length = 10,\n",
    "    truncation = True,\n",
    "    add_special_tokens = True,\n",
    "    return_token_type_ids = False,\n",
    "    pad_to_max_length = True,\n",
    "    return_attention_mask = True,\n",
    "    return_tensors = 'pt'\n",
    ") "
   ]
  },
  {
   "cell_type": "code",
   "execution_count": 70,
   "id": "4c8a6f80",
   "metadata": {},
   "outputs": [
    {
     "data": {
      "text/plain": [
       "dict_keys(['input_ids', 'attention_mask'])"
      ]
     },
     "execution_count": 70,
     "metadata": {},
     "output_type": "execute_result"
    }
   ],
   "source": [
    "encoding.keys()"
   ]
  },
  {
   "cell_type": "code",
   "execution_count": 71,
   "id": "6200c6d4",
   "metadata": {},
   "outputs": [
    {
     "name": "stdout",
     "output_type": "stream",
     "text": [
      "['[CLS]', 'disc', '##urs', '##o', 'ki', '##rch', '##ner', '##ista', 'cu', '[SEP]']\n",
      "tensor([  101,  5860,  9236,  2080, 11382, 11140,  3678, 11921, 12731,   102])\n",
      "tensor([1, 1, 1, 1, 1, 1, 1, 1, 1, 1])\n"
     ]
    }
   ],
   "source": [
    "print(tokenizer.convert_ids_to_tokens(encoding['input_ids'][0]))\n",
    "print(encoding['input_ids'][0])\n",
    "print(encoding['attention_mask'][0])"
   ]
  },
  {
   "cell_type": "code",
   "execution_count": 77,
   "id": "4af9f0d1",
   "metadata": {},
   "outputs": [],
   "source": [
    "#!pip install pysentimiento"
   ]
  },
  {
   "cell_type": "code",
   "execution_count": 78,
   "id": "a5b72d74",
   "metadata": {},
   "outputs": [
    {
     "data": {
      "application/vnd.jupyter.widget-view+json": {
       "model_id": "72a71761ad774fbd8629fb083fb74986",
       "version_major": 2,
       "version_minor": 0
      },
      "text/plain": [
       "Downloading:   0%|          | 0.00/528 [00:00<?, ?B/s]"
      ]
     },
     "metadata": {},
     "output_type": "display_data"
    },
    {
     "data": {
      "application/vnd.jupyter.widget-view+json": {
       "model_id": "215dcfe2cb1c4b2293bd0baef517083c",
       "version_major": 2,
       "version_minor": 0
      },
      "text/plain": [
       "Downloading:   0%|          | 0.00/841 [00:00<?, ?B/s]"
      ]
     },
     "metadata": {},
     "output_type": "display_data"
    },
    {
     "data": {
      "application/vnd.jupyter.widget-view+json": {
       "model_id": "2a2d64d80cce4937b09ac8e38f74d432",
       "version_major": 2,
       "version_minor": 0
      },
      "text/plain": [
       "Downloading:   0%|          | 0.00/242k [00:00<?, ?B/s]"
      ]
     },
     "metadata": {},
     "output_type": "display_data"
    },
    {
     "data": {
      "application/vnd.jupyter.widget-view+json": {
       "model_id": "ff14f511228845ebafb6eb161f9ecd12",
       "version_major": 2,
       "version_minor": 0
      },
      "text/plain": [
       "Downloading:   0%|          | 0.00/481k [00:00<?, ?B/s]"
      ]
     },
     "metadata": {},
     "output_type": "display_data"
    },
    {
     "data": {
      "application/vnd.jupyter.widget-view+json": {
       "model_id": "983c61b6fe964be8a5ab33bdcd2034e4",
       "version_major": 2,
       "version_minor": 0
      },
      "text/plain": [
       "Downloading:   0%|          | 0.00/67.0 [00:00<?, ?B/s]"
      ]
     },
     "metadata": {},
     "output_type": "display_data"
    },
    {
     "data": {
      "application/vnd.jupyter.widget-view+json": {
       "model_id": "35cf3ad97df340eb92feb96c799dd201",
       "version_major": 2,
       "version_minor": 0
      },
      "text/plain": [
       "Downloading:   0%|          | 0.00/112 [00:00<?, ?B/s]"
      ]
     },
     "metadata": {},
     "output_type": "display_data"
    },
    {
     "data": {
      "application/vnd.jupyter.widget-view+json": {
       "model_id": "d7177ab177fa4cfdbd486c8d4c4077d8",
       "version_major": 2,
       "version_minor": 0
      },
      "text/plain": [
       "Downloading:   0%|          | 0.00/440M [00:00<?, ?B/s]"
      ]
     },
     "metadata": {},
     "output_type": "display_data"
    },
    {
     "name": "stderr",
     "output_type": "stream",
     "text": [
      "/Users/juanpablomereaotermin/.pyenv/versions/3.8.6/envs/MooDy/lib/python3.8/site-packages/setuptools/distutils_patch.py:25: UserWarning: Distutils was imported before Setuptools. This usage is discouraged and may exhibit undesirable behaviors or errors. Please use Setuptools' objects directly or at least import Setuptools first.\n",
      "  warnings.warn(\n"
     ]
    }
   ],
   "source": [
    "from pysentimiento import SentimentAnalyzer\n",
    "\n",
    "analyzer = SentimentAnalyzer(lang=\"es\")"
   ]
  },
  {
   "cell_type": "code",
   "execution_count": 98,
   "id": "a77d9aa8",
   "metadata": {},
   "outputs": [
    {
     "ename": "TypeError",
     "evalue": "'float' object is not iterable",
     "output_type": "error",
     "traceback": [
      "\u001b[0;31m---------------------------------------------------------------------------\u001b[0m",
      "\u001b[0;31mTypeError\u001b[0m                                 Traceback (most recent call last)",
      "\u001b[0;32m/var/folders/9t/4q21kp8s6vb49kb4fvt2l39h0000gn/T/ipykernel_59304/379117667.py\u001b[0m in \u001b[0;36m<module>\u001b[0;34m\u001b[0m\n\u001b[0;32m----> 1\u001b[0;31m \u001b[0mpredict\u001b[0m \u001b[0;34m=\u001b[0m \u001b[0manalyzer\u001b[0m\u001b[0;34m.\u001b[0m\u001b[0mpredict\u001b[0m\u001b[0;34m(\u001b[0m\u001b[0mX_train\u001b[0m\u001b[0;34m.\u001b[0m\u001b[0mtext\u001b[0m\u001b[0;34m)\u001b[0m\u001b[0;34m\u001b[0m\u001b[0;34m\u001b[0m\u001b[0m\n\u001b[0m",
      "\u001b[0;32m~/.pyenv/versions/3.8.6/envs/MooDy/lib/python3.8/site-packages/pysentimiento/analyzer.py\u001b[0m in \u001b[0;36mpredict\u001b[0;34m(self, inputs)\u001b[0m\n\u001b[1;32m    130\u001b[0m \u001b[0;34m\u001b[0m\u001b[0m\n\u001b[1;32m    131\u001b[0m \u001b[0;34m\u001b[0m\u001b[0m\n\u001b[0;32m--> 132\u001b[0;31m         sentences = [\n\u001b[0m\u001b[1;32m    133\u001b[0m             \u001b[0mpreprocess_tweet\u001b[0m\u001b[0;34m(\u001b[0m\u001b[0msent\u001b[0m\u001b[0;34m,\u001b[0m \u001b[0;34m**\u001b[0m\u001b[0mself\u001b[0m\u001b[0;34m.\u001b[0m\u001b[0mpreprocessing_args\u001b[0m\u001b[0;34m)\u001b[0m \u001b[0;32mfor\u001b[0m \u001b[0msent\u001b[0m \u001b[0;32min\u001b[0m \u001b[0minputs\u001b[0m\u001b[0;34m\u001b[0m\u001b[0;34m\u001b[0m\u001b[0m\n\u001b[1;32m    134\u001b[0m         ]\n",
      "\u001b[0;32m~/.pyenv/versions/3.8.6/envs/MooDy/lib/python3.8/site-packages/pysentimiento/analyzer.py\u001b[0m in \u001b[0;36m<listcomp>\u001b[0;34m(.0)\u001b[0m\n\u001b[1;32m    131\u001b[0m \u001b[0;34m\u001b[0m\u001b[0m\n\u001b[1;32m    132\u001b[0m         sentences = [\n\u001b[0;32m--> 133\u001b[0;31m             \u001b[0mpreprocess_tweet\u001b[0m\u001b[0;34m(\u001b[0m\u001b[0msent\u001b[0m\u001b[0;34m,\u001b[0m \u001b[0;34m**\u001b[0m\u001b[0mself\u001b[0m\u001b[0;34m.\u001b[0m\u001b[0mpreprocessing_args\u001b[0m\u001b[0;34m)\u001b[0m \u001b[0;32mfor\u001b[0m \u001b[0msent\u001b[0m \u001b[0;32min\u001b[0m \u001b[0minputs\u001b[0m\u001b[0;34m\u001b[0m\u001b[0;34m\u001b[0m\u001b[0m\n\u001b[0m\u001b[1;32m    134\u001b[0m         ]\n\u001b[1;32m    135\u001b[0m         \u001b[0mdataset\u001b[0m \u001b[0;34m=\u001b[0m \u001b[0mDataset\u001b[0m\u001b[0;34m.\u001b[0m\u001b[0mfrom_dict\u001b[0m\u001b[0;34m(\u001b[0m\u001b[0;34m{\u001b[0m\u001b[0;34m\"text\"\u001b[0m\u001b[0;34m:\u001b[0m \u001b[0msentences\u001b[0m\u001b[0;34m}\u001b[0m\u001b[0;34m)\u001b[0m\u001b[0;34m\u001b[0m\u001b[0;34m\u001b[0m\u001b[0m\n",
      "\u001b[0;32m~/.pyenv/versions/3.8.6/envs/MooDy/lib/python3.8/site-packages/pysentimiento/preprocessing.py\u001b[0m in \u001b[0;36mpreprocess_tweet\u001b[0;34m(text, lang, user_token, url_token, preprocess_hashtags, hashtag_token, demoji, shorten, normalize_laughter, emoji_wrapper)\u001b[0m\n\u001b[1;32m    137\u001b[0m \u001b[0;34m\u001b[0m\u001b[0m\n\u001b[1;32m    138\u001b[0m     \u001b[0mret\u001b[0m \u001b[0;34m=\u001b[0m \u001b[0;34m\"\"\u001b[0m\u001b[0;34m\u001b[0m\u001b[0;34m\u001b[0m\u001b[0m\n\u001b[0;32m--> 139\u001b[0;31m     \u001b[0;32mfor\u001b[0m \u001b[0mchar\u001b[0m \u001b[0;32min\u001b[0m \u001b[0mtext\u001b[0m\u001b[0;34m:\u001b[0m\u001b[0;34m\u001b[0m\u001b[0;34m\u001b[0m\u001b[0m\n\u001b[0m\u001b[1;32m    140\u001b[0m         \u001b[0;32mif\u001b[0m \u001b[0mchar\u001b[0m \u001b[0;32min\u001b[0m \u001b[0mreplacements\u001b[0m\u001b[0;34m:\u001b[0m\u001b[0;34m\u001b[0m\u001b[0;34m\u001b[0m\u001b[0m\n\u001b[1;32m    141\u001b[0m             \u001b[0mreplacement\u001b[0m \u001b[0;34m=\u001b[0m \u001b[0mreplacements\u001b[0m\u001b[0;34m[\u001b[0m\u001b[0mchar\u001b[0m\u001b[0;34m]\u001b[0m\u001b[0;34m\u001b[0m\u001b[0;34m\u001b[0m\u001b[0m\n",
      "\u001b[0;31mTypeError\u001b[0m: 'float' object is not iterable"
     ]
    }
   ],
   "source": [
    "predict = analyzer.predict(X_train.text)"
   ]
  },
  {
   "cell_type": "code",
   "execution_count": 97,
   "id": "374d3ff2",
   "metadata": {},
   "outputs": [
    {
     "name": "stdout",
     "output_type": "stream",
     "text": [
      "SentimentOutput(output=NEG, probas={NEG: 0.570, NEU: 0.427, POS: 0.003})\n"
     ]
    }
   ],
   "source": [
    "print(predict)"
   ]
  },
  {
   "cell_type": "code",
   "execution_count": 87,
   "id": "38771d26",
   "metadata": {},
   "outputs": [
    {
     "data": {
      "text/html": [
       "<div>\n",
       "<style scoped>\n",
       "    .dataframe tbody tr th:only-of-type {\n",
       "        vertical-align: middle;\n",
       "    }\n",
       "\n",
       "    .dataframe tbody tr th {\n",
       "        vertical-align: top;\n",
       "    }\n",
       "\n",
       "    .dataframe thead th {\n",
       "        text-align: right;\n",
       "    }\n",
       "</style>\n",
       "<table border=\"1\" class=\"dataframe\">\n",
       "  <thead>\n",
       "    <tr style=\"text-align: right;\">\n",
       "      <th></th>\n",
       "      <th>Unnamed: 0</th>\n",
       "      <th>coordinates</th>\n",
       "      <th>created_at</th>\n",
       "      <th>hashtags</th>\n",
       "      <th>media</th>\n",
       "      <th>urls</th>\n",
       "      <th>favorite_count</th>\n",
       "      <th>id</th>\n",
       "      <th>in_reply_to_screen_name</th>\n",
       "      <th>in_reply_to_status_id</th>\n",
       "      <th>...</th>\n",
       "      <th>user_location</th>\n",
       "      <th>user_name</th>\n",
       "      <th>user_screen_name</th>\n",
       "      <th>user_statuses_count</th>\n",
       "      <th>user_time_zone</th>\n",
       "      <th>user_urls</th>\n",
       "      <th>user_verified</th>\n",
       "      <th>fecha</th>\n",
       "      <th>bid</th>\n",
       "      <th>ask</th>\n",
       "    </tr>\n",
       "  </thead>\n",
       "  <tbody>\n",
       "    <tr>\n",
       "      <th>0</th>\n",
       "      <td>0</td>\n",
       "      <td>NaN</td>\n",
       "      <td>2020-04-27</td>\n",
       "      <td>NaN</td>\n",
       "      <td>NaN</td>\n",
       "      <td>http://m.uy/uc751169</td>\n",
       "      <td>0</td>\n",
       "      <td>1254570018089635840</td>\n",
       "      <td>NaN</td>\n",
       "      <td>NaN</td>\n",
       "      <td>...</td>\n",
       "      <td>Montevideo</td>\n",
       "      <td>Javier Carrizo</td>\n",
       "      <td>JavierCarrizo2</td>\n",
       "      <td>125197.0</td>\n",
       "      <td>NaN</td>\n",
       "      <td>NaN</td>\n",
       "      <td>False</td>\n",
       "      <td>2020-04-27</td>\n",
       "      <td>$ 109.00</td>\n",
       "      <td>$ 118.00</td>\n",
       "    </tr>\n",
       "    <tr>\n",
       "      <th>1</th>\n",
       "      <td>1</td>\n",
       "      <td>NaN</td>\n",
       "      <td>2020-04-27</td>\n",
       "      <td>NaN</td>\n",
       "      <td>NaN</td>\n",
       "      <td>NaN</td>\n",
       "      <td>0</td>\n",
       "      <td>1254567307373879296</td>\n",
       "      <td>NaN</td>\n",
       "      <td>NaN</td>\n",
       "      <td>...</td>\n",
       "      <td>Buenos Aires, Argentina</td>\n",
       "      <td>cris</td>\n",
       "      <td>usacrist_cris</td>\n",
       "      <td>504.0</td>\n",
       "      <td>NaN</td>\n",
       "      <td>NaN</td>\n",
       "      <td>False</td>\n",
       "      <td>2020-04-27</td>\n",
       "      <td>$ 109.00</td>\n",
       "      <td>$ 118.00</td>\n",
       "    </tr>\n",
       "    <tr>\n",
       "      <th>2</th>\n",
       "      <td>2</td>\n",
       "      <td>NaN</td>\n",
       "      <td>2020-04-27</td>\n",
       "      <td>NaN</td>\n",
       "      <td>NaN</td>\n",
       "      <td>https://twitter.com/orchala66/status/125456588...</td>\n",
       "      <td>16</td>\n",
       "      <td>1254567736199516166</td>\n",
       "      <td>NaN</td>\n",
       "      <td>NaN</td>\n",
       "      <td>...</td>\n",
       "      <td>URUGUAY🇺🇾</td>\n",
       "      <td>Elizabeth Izzi 🦋🇺🇾</td>\n",
       "      <td>ElizabethIzzi</td>\n",
       "      <td>57034.0</td>\n",
       "      <td>NaN</td>\n",
       "      <td>NaN</td>\n",
       "      <td>False</td>\n",
       "      <td>2020-04-27</td>\n",
       "      <td>$ 109.00</td>\n",
       "      <td>$ 118.00</td>\n",
       "    </tr>\n",
       "    <tr>\n",
       "      <th>3</th>\n",
       "      <td>3</td>\n",
       "      <td>NaN</td>\n",
       "      <td>2020-04-27</td>\n",
       "      <td>NaN</td>\n",
       "      <td>NaN</td>\n",
       "      <td>https://twitter.com/ESPNUruguay/status/1254490...</td>\n",
       "      <td>1</td>\n",
       "      <td>1254563921450672130</td>\n",
       "      <td>NaN</td>\n",
       "      <td>NaN</td>\n",
       "      <td>...</td>\n",
       "      <td>Montevideo, Uruguay</td>\n",
       "      <td>Santiago</td>\n",
       "      <td>Santi_Bas_00</td>\n",
       "      <td>19463.0</td>\n",
       "      <td>NaN</td>\n",
       "      <td>NaN</td>\n",
       "      <td>False</td>\n",
       "      <td>2020-04-27</td>\n",
       "      <td>$ 109.00</td>\n",
       "      <td>$ 118.00</td>\n",
       "    </tr>\n",
       "    <tr>\n",
       "      <th>4</th>\n",
       "      <td>4</td>\n",
       "      <td>NaN</td>\n",
       "      <td>2020-04-27</td>\n",
       "      <td>NaN</td>\n",
       "      <td>NaN</td>\n",
       "      <td>NaN</td>\n",
       "      <td>0</td>\n",
       "      <td>1254571152829222912</td>\n",
       "      <td>NaN</td>\n",
       "      <td>NaN</td>\n",
       "      <td>...</td>\n",
       "      <td>Punta del Este</td>\n",
       "      <td>Libertad</td>\n",
       "      <td>AnaRuth29310478</td>\n",
       "      <td>2554.0</td>\n",
       "      <td>NaN</td>\n",
       "      <td>NaN</td>\n",
       "      <td>False</td>\n",
       "      <td>2020-04-27</td>\n",
       "      <td>$ 109.00</td>\n",
       "      <td>$ 118.00</td>\n",
       "    </tr>\n",
       "  </tbody>\n",
       "</table>\n",
       "<p>5 rows × 39 columns</p>\n",
       "</div>"
      ],
      "text/plain": [
       "  Unnamed: 0 coordinates  created_at hashtags media  \\\n",
       "0          0         NaN  2020-04-27      NaN   NaN   \n",
       "1          1         NaN  2020-04-27      NaN   NaN   \n",
       "2          2         NaN  2020-04-27      NaN   NaN   \n",
       "3          3         NaN  2020-04-27      NaN   NaN   \n",
       "4          4         NaN  2020-04-27      NaN   NaN   \n",
       "\n",
       "                                                urls favorite_count  \\\n",
       "0                               http://m.uy/uc751169              0   \n",
       "1                                                NaN              0   \n",
       "2  https://twitter.com/orchala66/status/125456588...             16   \n",
       "3  https://twitter.com/ESPNUruguay/status/1254490...              1   \n",
       "4                                                NaN              0   \n",
       "\n",
       "                    id  in_reply_to_screen_name  in_reply_to_status_id  ...  \\\n",
       "0  1254570018089635840                      NaN                    NaN  ...   \n",
       "1  1254567307373879296                      NaN                    NaN  ...   \n",
       "2  1254567736199516166                      NaN                    NaN  ...   \n",
       "3  1254563921450672130                      NaN                    NaN  ...   \n",
       "4  1254571152829222912                      NaN                    NaN  ...   \n",
       "\n",
       "             user_location           user_name user_screen_name  \\\n",
       "0               Montevideo      Javier Carrizo   JavierCarrizo2   \n",
       "1  Buenos Aires, Argentina                cris    usacrist_cris   \n",
       "2                URUGUAY🇺🇾  Elizabeth Izzi 🦋🇺🇾    ElizabethIzzi   \n",
       "3      Montevideo, Uruguay            Santiago     Santi_Bas_00   \n",
       "4           Punta del Este            Libertad  AnaRuth29310478   \n",
       "\n",
       "  user_statuses_count user_time_zone  user_urls  user_verified       fecha  \\\n",
       "0            125197.0            NaN        NaN          False  2020-04-27   \n",
       "1               504.0            NaN        NaN          False  2020-04-27   \n",
       "2             57034.0            NaN        NaN          False  2020-04-27   \n",
       "3             19463.0            NaN        NaN          False  2020-04-27   \n",
       "4              2554.0            NaN        NaN          False  2020-04-27   \n",
       "\n",
       "          bid        ask  \n",
       "0   $ 109.00    $ 118.00  \n",
       "1   $ 109.00    $ 118.00  \n",
       "2   $ 109.00    $ 118.00  \n",
       "3   $ 109.00    $ 118.00  \n",
       "4   $ 109.00    $ 118.00  \n",
       "\n",
       "[5 rows x 39 columns]"
      ]
     },
     "execution_count": 87,
     "metadata": {},
     "output_type": "execute_result"
    }
   ],
   "source": [
    "df.head()"
   ]
  },
  {
   "cell_type": "code",
   "execution_count": null,
   "id": "e9d3e7e8",
   "metadata": {},
   "outputs": [],
   "source": [
    "import money"
   ]
  },
  {
   "cell_type": "code",
   "execution_count": null,
   "id": "9d87aa1f",
   "metadata": {},
   "outputs": [],
   "source": [
    "import party "
   ]
  },
  {
   "cell_type": "code",
   "execution_count": null,
   "id": "b0233159",
   "metadata": {},
   "outputs": [],
   "source": [
    "import peron"
   ]
  },
  {
   "cell_type": "code",
   "execution_count": 83,
   "id": "552aca8e",
   "metadata": {},
   "outputs": [
    {
     "data": {
      "text/plain": [
       "'discurso kirchnerista culpa presidente culpó junto cambio medios manifestantes covid quejó herencia recibida omitiendo últimos veinte años vice parte gobierno dieciséis'"
      ]
     },
     "execution_count": 83,
     "metadata": {},
     "output_type": "execute_result"
    }
   ],
   "source": [
    "txt"
   ]
  },
  {
   "cell_type": "code",
   "execution_count": 107,
   "id": "c195d77d",
   "metadata": {},
   "outputs": [],
   "source": [
    "txt_2 = 'que feliz que estoy con la gestion de alberto fernandez viva pero'\n",
    "txt_3 = 'hoy hubieron 200 contagios de covid, que porqueria!'"
   ]
  },
  {
   "cell_type": "code",
   "execution_count": 108,
   "id": "17294de2",
   "metadata": {
    "scrolled": true
   },
   "outputs": [
    {
     "data": {
      "text/plain": [
       "(SentimentOutput(output=POS, probas={POS: 0.998, NEU: 0.001, NEG: 0.001}),\n",
       " SentimentOutput(output=NEG, probas={NEG: 0.999, POS: 0.000, NEU: 0.000}))"
      ]
     },
     "execution_count": 108,
     "metadata": {},
     "output_type": "execute_result"
    }
   ],
   "source": [
    "analyzer.predict(txt_2), analyzer.predict(txt_3)"
   ]
  },
  {
   "cell_type": "code",
   "execution_count": 109,
   "id": "de9b69ff",
   "metadata": {},
   "outputs": [
    {
     "data": {
      "text/plain": [
       "(SentimentOutput(output=POS, probas={POS: 0.998, NEU: 0.001, NEG: 0.001}),\n",
       " SentimentOutput(output=NEG, probas={NEG: 0.999, POS: 0.000, NEU: 0.000}))"
      ]
     },
     "execution_count": 109,
     "metadata": {},
     "output_type": "execute_result"
    }
   ],
   "source": [
    "analyzer.predict(txt_2), analyzer.predict(txt_3)"
   ]
  },
  {
   "cell_type": "code",
   "execution_count": 110,
   "id": "487acbe9",
   "metadata": {},
   "outputs": [
    {
     "data": {
      "text/plain": [
       "(EmotionOutput(output=joy, probas={joy: 0.992, surprise: 0.002, fear: 0.002, others: 0.002, disgust: 0.001, sadness: 0.001, anger: 0.001}),\n",
       " EmotionOutput(output=anger, probas={anger: 0.822, disgust: 0.165, surprise: 0.004, fear: 0.003, sadness: 0.002, joy: 0.002, others: 0.002}))"
      ]
     },
     "execution_count": 110,
     "metadata": {},
     "output_type": "execute_result"
    }
   ],
   "source": [
    "emotion_analyzer.predict(txt_2), emotion_analyzer.predict(txt_3)"
   ]
  },
  {
   "cell_type": "code",
   "execution_count": 100,
   "id": "dad69e74",
   "metadata": {},
   "outputs": [
    {
     "name": "stderr",
     "output_type": "stream",
     "text": [
      "https://huggingface.co/finiteautomata/beto-emotion-analysis/resolve/main/tokenizer_config.json not found in cache or force_download set to True, downloading to /Users/juanpablomereaotermin/.cache/huggingface/transformers/tmpitcxsidq\n"
     ]
    },
    {
     "data": {
      "application/vnd.jupyter.widget-view+json": {
       "model_id": "d7b1f9724c8b471fb3c1ce3997694f2d",
       "version_major": 2,
       "version_minor": 0
      },
      "text/plain": [
       "Downloading:   0%|          | 0.00/528 [00:00<?, ?B/s]"
      ]
     },
     "metadata": {},
     "output_type": "display_data"
    },
    {
     "name": "stderr",
     "output_type": "stream",
     "text": [
      "storing https://huggingface.co/finiteautomata/beto-emotion-analysis/resolve/main/tokenizer_config.json in cache at /Users/juanpablomereaotermin/.cache/huggingface/transformers/b515a7f7f7c5ab818cb49fe535d9886b05f726253b73e8233fba3b1eb1d9dda9.6610639a3a01ef41e1083c8f282f39d442a64ca8691291be4444213bf598269d\n",
      "creating metadata file for /Users/juanpablomereaotermin/.cache/huggingface/transformers/b515a7f7f7c5ab818cb49fe535d9886b05f726253b73e8233fba3b1eb1d9dda9.6610639a3a01ef41e1083c8f282f39d442a64ca8691291be4444213bf598269d\n",
      "https://huggingface.co/finiteautomata/beto-emotion-analysis/resolve/main/config.json not found in cache or force_download set to True, downloading to /Users/juanpablomereaotermin/.cache/huggingface/transformers/tmp24j5xqr7\n"
     ]
    },
    {
     "data": {
      "application/vnd.jupyter.widget-view+json": {
       "model_id": "5774b26ef13340e2b5273c9bbf91110f",
       "version_major": 2,
       "version_minor": 0
      },
      "text/plain": [
       "Downloading:   0%|          | 0.00/950 [00:00<?, ?B/s]"
      ]
     },
     "metadata": {},
     "output_type": "display_data"
    },
    {
     "name": "stderr",
     "output_type": "stream",
     "text": [
      "storing https://huggingface.co/finiteautomata/beto-emotion-analysis/resolve/main/config.json in cache at /Users/juanpablomereaotermin/.cache/huggingface/transformers/b75b62ad64772a1df4c46943b8729e726a8bcc147e845197d591ebde2d1430b2.516dbdb8064a2498055e9af6e5d92ae5a4583bcefe0ca71535c71f42cf513138\n",
      "creating metadata file for /Users/juanpablomereaotermin/.cache/huggingface/transformers/b75b62ad64772a1df4c46943b8729e726a8bcc147e845197d591ebde2d1430b2.516dbdb8064a2498055e9af6e5d92ae5a4583bcefe0ca71535c71f42cf513138\n",
      "loading configuration file https://huggingface.co/finiteautomata/beto-emotion-analysis/resolve/main/config.json from cache at /Users/juanpablomereaotermin/.cache/huggingface/transformers/b75b62ad64772a1df4c46943b8729e726a8bcc147e845197d591ebde2d1430b2.516dbdb8064a2498055e9af6e5d92ae5a4583bcefe0ca71535c71f42cf513138\n",
      "Model config BertConfig {\n",
      "  \"_name_or_path\": \"dccuchile/bert-base-spanish-wwm-cased\",\n",
      "  \"architectures\": [\n",
      "    \"BertForSequenceClassification\"\n",
      "  ],\n",
      "  \"attention_probs_dropout_prob\": 0.1,\n",
      "  \"classifier_dropout\": null,\n",
      "  \"gradient_checkpointing\": false,\n",
      "  \"hidden_act\": \"gelu\",\n",
      "  \"hidden_dropout_prob\": 0.1,\n",
      "  \"hidden_size\": 768,\n",
      "  \"id2label\": {\n",
      "    \"0\": \"others\",\n",
      "    \"1\": \"joy\",\n",
      "    \"2\": \"sadness\",\n",
      "    \"3\": \"anger\",\n",
      "    \"4\": \"surprise\",\n",
      "    \"5\": \"disgust\",\n",
      "    \"6\": \"fear\"\n",
      "  },\n",
      "  \"initializer_range\": 0.02,\n",
      "  \"intermediate_size\": 3072,\n",
      "  \"label2id\": {\n",
      "    \"anger\": 3,\n",
      "    \"disgust\": 5,\n",
      "    \"fear\": 6,\n",
      "    \"joy\": 1,\n",
      "    \"others\": 0,\n",
      "    \"sadness\": 2,\n",
      "    \"surprise\": 4\n",
      "  },\n",
      "  \"layer_norm_eps\": 1e-12,\n",
      "  \"max_position_embeddings\": 512,\n",
      "  \"model_type\": \"bert\",\n",
      "  \"num_attention_heads\": 12,\n",
      "  \"num_hidden_layers\": 12,\n",
      "  \"output_past\": true,\n",
      "  \"pad_token_id\": 1,\n",
      "  \"position_embedding_type\": \"absolute\",\n",
      "  \"transformers_version\": \"4.10.2\",\n",
      "  \"type_vocab_size\": 2,\n",
      "  \"use_cache\": true,\n",
      "  \"vocab_size\": 31006\n",
      "}\n",
      "\n",
      "https://huggingface.co/finiteautomata/beto-emotion-analysis/resolve/main/vocab.txt not found in cache or force_download set to True, downloading to /Users/juanpablomereaotermin/.cache/huggingface/transformers/tmpmv9tas85\n"
     ]
    },
    {
     "data": {
      "application/vnd.jupyter.widget-view+json": {
       "model_id": "555a1ef60421442e89e8c1e33c789f3e",
       "version_major": 2,
       "version_minor": 0
      },
      "text/plain": [
       "Downloading:   0%|          | 0.00/242k [00:00<?, ?B/s]"
      ]
     },
     "metadata": {},
     "output_type": "display_data"
    },
    {
     "name": "stderr",
     "output_type": "stream",
     "text": [
      "storing https://huggingface.co/finiteautomata/beto-emotion-analysis/resolve/main/vocab.txt in cache at /Users/juanpablomereaotermin/.cache/huggingface/transformers/182e659b57f089303d9beba9b54d4bbc33e388ea869b153a83344146934df088.6587bde86239957281af55b2f7e564df111a2b4f9dfc0ad884f13ea7106e4dfb\n",
      "creating metadata file for /Users/juanpablomereaotermin/.cache/huggingface/transformers/182e659b57f089303d9beba9b54d4bbc33e388ea869b153a83344146934df088.6587bde86239957281af55b2f7e564df111a2b4f9dfc0ad884f13ea7106e4dfb\n",
      "https://huggingface.co/finiteautomata/beto-emotion-analysis/resolve/main/tokenizer.json not found in cache or force_download set to True, downloading to /Users/juanpablomereaotermin/.cache/huggingface/transformers/tmpqxz8_bhe\n"
     ]
    },
    {
     "data": {
      "application/vnd.jupyter.widget-view+json": {
       "model_id": "ded9292c319a47668e1837f1ffcbea08",
       "version_major": 2,
       "version_minor": 0
      },
      "text/plain": [
       "Downloading:   0%|          | 0.00/481k [00:00<?, ?B/s]"
      ]
     },
     "metadata": {},
     "output_type": "display_data"
    },
    {
     "name": "stderr",
     "output_type": "stream",
     "text": [
      "storing https://huggingface.co/finiteautomata/beto-emotion-analysis/resolve/main/tokenizer.json in cache at /Users/juanpablomereaotermin/.cache/huggingface/transformers/d3ec1c07c1293a1f9a278e349641eff4ee1317eadc6625e7f0d740aed9d0c3e6.7bb78e6bcd16fd5afcc81f874d642c4c0e37c5a70d9c4cae22a5ef652a474211\n",
      "creating metadata file for /Users/juanpablomereaotermin/.cache/huggingface/transformers/d3ec1c07c1293a1f9a278e349641eff4ee1317eadc6625e7f0d740aed9d0c3e6.7bb78e6bcd16fd5afcc81f874d642c4c0e37c5a70d9c4cae22a5ef652a474211\n",
      "https://huggingface.co/finiteautomata/beto-emotion-analysis/resolve/main/added_tokens.json not found in cache or force_download set to True, downloading to /Users/juanpablomereaotermin/.cache/huggingface/transformers/tmp4qa_bjji\n"
     ]
    },
    {
     "data": {
      "application/vnd.jupyter.widget-view+json": {
       "model_id": "d861db5c5ba343bd95add16522d890c7",
       "version_major": 2,
       "version_minor": 0
      },
      "text/plain": [
       "Downloading:   0%|          | 0.00/67.0 [00:00<?, ?B/s]"
      ]
     },
     "metadata": {},
     "output_type": "display_data"
    },
    {
     "name": "stderr",
     "output_type": "stream",
     "text": [
      "storing https://huggingface.co/finiteautomata/beto-emotion-analysis/resolve/main/added_tokens.json in cache at /Users/juanpablomereaotermin/.cache/huggingface/transformers/17175619af4cf779d700ee7d96d939b4a2e370552f3e212b28706988c07bc757.3bdabf8f0209d2860f770add80e3711ab238cbb392a68cc562df9a4f94237507\n",
      "creating metadata file for /Users/juanpablomereaotermin/.cache/huggingface/transformers/17175619af4cf779d700ee7d96d939b4a2e370552f3e212b28706988c07bc757.3bdabf8f0209d2860f770add80e3711ab238cbb392a68cc562df9a4f94237507\n",
      "https://huggingface.co/finiteautomata/beto-emotion-analysis/resolve/main/special_tokens_map.json not found in cache or force_download set to True, downloading to /Users/juanpablomereaotermin/.cache/huggingface/transformers/tmpx3s0c_ml\n"
     ]
    },
    {
     "data": {
      "application/vnd.jupyter.widget-view+json": {
       "model_id": "3c58db69f81c40958a7d7d68b1575653",
       "version_major": 2,
       "version_minor": 0
      },
      "text/plain": [
       "Downloading:   0%|          | 0.00/112 [00:00<?, ?B/s]"
      ]
     },
     "metadata": {},
     "output_type": "display_data"
    },
    {
     "name": "stderr",
     "output_type": "stream",
     "text": [
      "storing https://huggingface.co/finiteautomata/beto-emotion-analysis/resolve/main/special_tokens_map.json in cache at /Users/juanpablomereaotermin/.cache/huggingface/transformers/1b11459e7e69246d319a1fdec54171a4b3b1420078955aa63daebe50a0639ac5.dd8bd9bfd3664b530ea4e645105f557769387b3da9f79bdb55ed556bdd80611d\n",
      "creating metadata file for /Users/juanpablomereaotermin/.cache/huggingface/transformers/1b11459e7e69246d319a1fdec54171a4b3b1420078955aa63daebe50a0639ac5.dd8bd9bfd3664b530ea4e645105f557769387b3da9f79bdb55ed556bdd80611d\n",
      "loading file https://huggingface.co/finiteautomata/beto-emotion-analysis/resolve/main/vocab.txt from cache at /Users/juanpablomereaotermin/.cache/huggingface/transformers/182e659b57f089303d9beba9b54d4bbc33e388ea869b153a83344146934df088.6587bde86239957281af55b2f7e564df111a2b4f9dfc0ad884f13ea7106e4dfb\n",
      "loading file https://huggingface.co/finiteautomata/beto-emotion-analysis/resolve/main/tokenizer.json from cache at /Users/juanpablomereaotermin/.cache/huggingface/transformers/d3ec1c07c1293a1f9a278e349641eff4ee1317eadc6625e7f0d740aed9d0c3e6.7bb78e6bcd16fd5afcc81f874d642c4c0e37c5a70d9c4cae22a5ef652a474211\n",
      "loading file https://huggingface.co/finiteautomata/beto-emotion-analysis/resolve/main/added_tokens.json from cache at /Users/juanpablomereaotermin/.cache/huggingface/transformers/17175619af4cf779d700ee7d96d939b4a2e370552f3e212b28706988c07bc757.3bdabf8f0209d2860f770add80e3711ab238cbb392a68cc562df9a4f94237507\n",
      "loading file https://huggingface.co/finiteautomata/beto-emotion-analysis/resolve/main/special_tokens_map.json from cache at /Users/juanpablomereaotermin/.cache/huggingface/transformers/1b11459e7e69246d319a1fdec54171a4b3b1420078955aa63daebe50a0639ac5.dd8bd9bfd3664b530ea4e645105f557769387b3da9f79bdb55ed556bdd80611d\n",
      "loading file https://huggingface.co/finiteautomata/beto-emotion-analysis/resolve/main/tokenizer_config.json from cache at /Users/juanpablomereaotermin/.cache/huggingface/transformers/b515a7f7f7c5ab818cb49fe535d9886b05f726253b73e8233fba3b1eb1d9dda9.6610639a3a01ef41e1083c8f282f39d442a64ca8691291be4444213bf598269d\n",
      "loading configuration file https://huggingface.co/finiteautomata/beto-emotion-analysis/resolve/main/config.json from cache at /Users/juanpablomereaotermin/.cache/huggingface/transformers/b75b62ad64772a1df4c46943b8729e726a8bcc147e845197d591ebde2d1430b2.516dbdb8064a2498055e9af6e5d92ae5a4583bcefe0ca71535c71f42cf513138\n",
      "Model config BertConfig {\n",
      "  \"_name_or_path\": \"dccuchile/bert-base-spanish-wwm-cased\",\n",
      "  \"architectures\": [\n",
      "    \"BertForSequenceClassification\"\n",
      "  ],\n",
      "  \"attention_probs_dropout_prob\": 0.1,\n",
      "  \"classifier_dropout\": null,\n",
      "  \"gradient_checkpointing\": false,\n",
      "  \"hidden_act\": \"gelu\",\n",
      "  \"hidden_dropout_prob\": 0.1,\n",
      "  \"hidden_size\": 768,\n",
      "  \"id2label\": {\n",
      "    \"0\": \"others\",\n",
      "    \"1\": \"joy\",\n",
      "    \"2\": \"sadness\",\n",
      "    \"3\": \"anger\",\n",
      "    \"4\": \"surprise\",\n",
      "    \"5\": \"disgust\",\n",
      "    \"6\": \"fear\"\n",
      "  },\n",
      "  \"initializer_range\": 0.02,\n",
      "  \"intermediate_size\": 3072,\n",
      "  \"label2id\": {\n",
      "    \"anger\": 3,\n",
      "    \"disgust\": 5,\n",
      "    \"fear\": 6,\n",
      "    \"joy\": 1,\n",
      "    \"others\": 0,\n",
      "    \"sadness\": 2,\n",
      "    \"surprise\": 4\n",
      "  },\n",
      "  \"layer_norm_eps\": 1e-12,\n",
      "  \"max_position_embeddings\": 512,\n",
      "  \"model_type\": \"bert\",\n",
      "  \"num_attention_heads\": 12,\n",
      "  \"num_hidden_layers\": 12,\n",
      "  \"output_past\": true,\n",
      "  \"pad_token_id\": 1,\n",
      "  \"position_embedding_type\": \"absolute\",\n",
      "  \"transformers_version\": \"4.10.2\",\n",
      "  \"type_vocab_size\": 2,\n",
      "  \"use_cache\": true,\n",
      "  \"vocab_size\": 31006\n",
      "}\n",
      "\n",
      "loading configuration file https://huggingface.co/finiteautomata/beto-emotion-analysis/resolve/main/config.json from cache at /Users/juanpablomereaotermin/.cache/huggingface/transformers/b75b62ad64772a1df4c46943b8729e726a8bcc147e845197d591ebde2d1430b2.516dbdb8064a2498055e9af6e5d92ae5a4583bcefe0ca71535c71f42cf513138\n",
      "Model config BertConfig {\n",
      "  \"_name_or_path\": \"dccuchile/bert-base-spanish-wwm-cased\",\n",
      "  \"architectures\": [\n",
      "    \"BertForSequenceClassification\"\n",
      "  ],\n",
      "  \"attention_probs_dropout_prob\": 0.1,\n",
      "  \"classifier_dropout\": null,\n",
      "  \"gradient_checkpointing\": false,\n",
      "  \"hidden_act\": \"gelu\",\n",
      "  \"hidden_dropout_prob\": 0.1,\n",
      "  \"hidden_size\": 768,\n",
      "  \"id2label\": {\n",
      "    \"0\": \"others\",\n",
      "    \"1\": \"joy\",\n",
      "    \"2\": \"sadness\",\n",
      "    \"3\": \"anger\",\n",
      "    \"4\": \"surprise\",\n",
      "    \"5\": \"disgust\",\n",
      "    \"6\": \"fear\"\n",
      "  },\n",
      "  \"initializer_range\": 0.02,\n",
      "  \"intermediate_size\": 3072,\n",
      "  \"label2id\": {\n",
      "    \"anger\": 3,\n",
      "    \"disgust\": 5,\n",
      "    \"fear\": 6,\n",
      "    \"joy\": 1,\n",
      "    \"others\": 0,\n",
      "    \"sadness\": 2,\n",
      "    \"surprise\": 4\n",
      "  },\n",
      "  \"layer_norm_eps\": 1e-12,\n",
      "  \"max_position_embeddings\": 512,\n",
      "  \"model_type\": \"bert\",\n",
      "  \"num_attention_heads\": 12,\n",
      "  \"num_hidden_layers\": 12,\n",
      "  \"output_past\": true,\n",
      "  \"pad_token_id\": 1,\n",
      "  \"position_embedding_type\": \"absolute\",\n",
      "  \"transformers_version\": \"4.10.2\",\n",
      "  \"type_vocab_size\": 2,\n",
      "  \"use_cache\": true,\n",
      "  \"vocab_size\": 31006\n",
      "}\n",
      "\n",
      "https://huggingface.co/finiteautomata/beto-emotion-analysis/resolve/main/pytorch_model.bin not found in cache or force_download set to True, downloading to /Users/juanpablomereaotermin/.cache/huggingface/transformers/tmptagb0843\n"
     ]
    },
    {
     "data": {
      "application/vnd.jupyter.widget-view+json": {
       "model_id": "a533ed5594514ac69fa6bbd6bb20ce3e",
       "version_major": 2,
       "version_minor": 0
      },
      "text/plain": [
       "Downloading:   0%|          | 0.00/440M [00:00<?, ?B/s]"
      ]
     },
     "metadata": {},
     "output_type": "display_data"
    },
    {
     "name": "stderr",
     "output_type": "stream",
     "text": [
      "storing https://huggingface.co/finiteautomata/beto-emotion-analysis/resolve/main/pytorch_model.bin in cache at /Users/juanpablomereaotermin/.cache/huggingface/transformers/3340fd56aeb259af2588d2310cd2b65003da73c71a0b3a9b194261e0f6f7a947.3ee7c714ba16bbcb5520130b897e21deeef4b8547c73faea6878ea623d25bc6a\n",
      "creating metadata file for /Users/juanpablomereaotermin/.cache/huggingface/transformers/3340fd56aeb259af2588d2310cd2b65003da73c71a0b3a9b194261e0f6f7a947.3ee7c714ba16bbcb5520130b897e21deeef4b8547c73faea6878ea623d25bc6a\n",
      "loading weights file https://huggingface.co/finiteautomata/beto-emotion-analysis/resolve/main/pytorch_model.bin from cache at /Users/juanpablomereaotermin/.cache/huggingface/transformers/3340fd56aeb259af2588d2310cd2b65003da73c71a0b3a9b194261e0f6f7a947.3ee7c714ba16bbcb5520130b897e21deeef4b8547c73faea6878ea623d25bc6a\n",
      "All model checkpoint weights were used when initializing BertForSequenceClassification.\n",
      "\n",
      "All the weights of BertForSequenceClassification were initialized from the model checkpoint at finiteautomata/beto-emotion-analysis.\n",
      "If your task is similar to the task the model of the checkpoint was trained on, you can already use BertForSequenceClassification for predictions without further training.\n",
      "PyTorch: setting up devices\n",
      "The default value for the training argument `--report_to` will change in v5 (from all installed integrations to none). In v5, you will need to use `--report_to all` to get the same behavior as now. You should start updating your code and make this info disappear :-).\n"
     ]
    }
   ],
   "source": [
    "from pysentimiento import EmotionAnalyzer\n",
    "\n",
    "emotion_analyzer = EmotionAnalyzer(lang=\"es\")"
   ]
  },
  {
   "cell_type": "code",
   "execution_count": null,
   "id": "7ac77edf",
   "metadata": {},
   "outputs": [],
   "source": []
  }
 ],
 "metadata": {
  "kernelspec": {
   "display_name": "Python 3 (ipykernel)",
   "language": "python",
   "name": "python3"
  },
  "language_info": {
   "codemirror_mode": {
    "name": "ipython",
    "version": 3
   },
   "file_extension": ".py",
   "mimetype": "text/x-python",
   "name": "python",
   "nbconvert_exporter": "python",
   "pygments_lexer": "ipython3",
   "version": "3.8.6"
  },
  "toc": {
   "base_numbering": 1,
   "nav_menu": {},
   "number_sections": true,
   "sideBar": true,
   "skip_h1_title": false,
   "title_cell": "Table of Contents",
   "title_sidebar": "Contents",
   "toc_cell": false,
   "toc_position": {},
   "toc_section_display": true,
   "toc_window_display": false
  }
 },
 "nbformat": 4,
 "nbformat_minor": 5
}
