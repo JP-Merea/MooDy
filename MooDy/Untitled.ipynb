{
 "cells": [
  {
   "cell_type": "code",
   "execution_count": 1,
   "id": "3567f204",
   "metadata": {},
   "outputs": [],
   "source": [
    "import numpy as np\n",
    "from tensorflow.keras.models import load_model\n",
    "from tensorflow.keras.preprocessing.sequence import pad_sequences "
   ]
  },
  {
   "cell_type": "code",
   "execution_count": 6,
   "id": "ed0204fe",
   "metadata": {},
   "outputs": [
    {
     "name": "stdout",
     "output_type": "stream",
     "text": [
      "WARNING:tensorflow:5 out of the last 5 calls to <function Model.make_predict_function.<locals>.predict_function at 0x14f7ad430> triggered tf.function retracing. Tracing is expensive and the excessive number of tracings could be due to (1) creating @tf.function repeatedly in a loop, (2) passing tensors with different shapes, (3) passing Python objects instead of tensors. For (1), please define your @tf.function outside of the loop. For (2), @tf.function has experimental_relax_shapes=True option that relaxes argument shapes that can avoid unnecessary retracing. For (3), please refer to https://www.tensorflow.org/guide/function#controlling_retracing and https://www.tensorflow.org/api_docs/python/tf/function for  more details.\n",
      "0.46818766\n",
      "0.53181237\n"
     ]
    }
   ],
   "source": [
    "filepath = '../streamlit/gru_model.h5'\n",
    "x= []\n",
    "if __name__ == '__main__':\n",
    "    model = load_model (filepath, custom_objects=None, compile=True, options=None)\n",
    "    X = np.array([[0.164680]])\n",
    "    X_test_pad = pad_sequences(X, value=-1000., dtype=float, padding='post', maxlen=30)\n",
    "    result = model.predict(X_test_pad)\n",
    "    print(result[0][0][0])\n",
    "    print(result[0][0][1])"
   ]
  },
  {
   "cell_type": "code",
   "execution_count": 7,
   "id": "4a665b05",
   "metadata": {},
   "outputs": [
    {
     "name": "stdout",
     "output_type": "stream",
     "text": [
      "[]\n"
     ]
    }
   ],
   "source": [
    "print(x)"
   ]
  },
  {
   "cell_type": "code",
   "execution_count": 12,
   "id": "194ddbed",
   "metadata": {},
   "outputs": [],
   "source": [
    "import pandas as pd\n",
    "import seaborn as sns"
   ]
  },
  {
   "cell_type": "code",
   "execution_count": 24,
   "id": "1981adf8",
   "metadata": {},
   "outputs": [
    {
     "name": "stdout",
     "output_type": "stream",
     "text": [
      "           a         b         c\n",
      "0  -0.481050 -0.225471  1.460706\n",
      "1  -0.402904 -0.677544  0.296738\n",
      "2  -0.192697 -0.937169  0.442853\n",
      "3   1.174264 -0.045771  1.590674\n",
      "4  -0.604175 -0.136846 -0.451495\n",
      "5  -0.071859 -0.352432 -0.264500\n",
      "6  -0.014959 -1.563217  0.029682\n",
      "7   0.108392 -0.512427 -0.399826\n",
      "8   1.015882 -0.545795 -0.824287\n",
      "9   0.195867  0.390337  0.740943\n",
      "10 -0.091567 -0.282439 -0.887339\n",
      "11  0.893607 -2.547079 -0.679818\n",
      "12  1.056392  0.553752  0.016073\n",
      "13  0.703823 -0.137239  0.138847\n",
      "14 -0.016106 -0.117313  0.227551\n",
      "15 -2.254271  0.522473 -0.732940\n",
      "16 -0.680567 -1.030082  0.413641\n",
      "17  0.540082 -1.588663  0.978695\n",
      "18  2.157569 -0.036764 -0.698498\n",
      "19 -0.687238 -0.536318 -0.276144\n"
     ]
    }
   ],
   "source": [
    "def get_line_chart_data():\n",
    "    print(pd.DataFrame(np.random.randn(20, 3), columns=['a', 'b', 'c']))\n",
    "            \n",
    "df = get_line_chart_data()"
   ]
  },
  {
   "cell_type": "code",
   "execution_count": 13,
   "id": "18c24cae",
   "metadata": {},
   "outputs": [
    {
     "ename": "AttributeError",
     "evalue": "module 'seaborn' has no attribute 'df'",
     "output_type": "error",
     "traceback": [
      "\u001b[0;31m---------------------------------------------------------------------------\u001b[0m",
      "\u001b[0;31mAttributeError\u001b[0m                            Traceback (most recent call last)",
      "\u001b[0;32m/var/folders/9t/4q21kp8s6vb49kb4fvt2l39h0000gn/T/ipykernel_18597/411468098.py\u001b[0m in \u001b[0;36m<module>\u001b[0;34m\u001b[0m\n\u001b[0;32m----> 1\u001b[0;31m \u001b[0msns\u001b[0m\u001b[0;34m.\u001b[0m\u001b[0mdf\u001b[0m\u001b[0;34m\u001b[0m\u001b[0;34m\u001b[0m\u001b[0m\n\u001b[0m",
      "\u001b[0;31mAttributeError\u001b[0m: module 'seaborn' has no attribute 'df'"
     ]
    }
   ],
   "source": []
  },
  {
   "cell_type": "code",
   "execution_count": null,
   "id": "0bc7d3ea",
   "metadata": {},
   "outputs": [],
   "source": []
  }
 ],
 "metadata": {
  "kernelspec": {
   "display_name": "Python 3 (ipykernel)",
   "language": "python",
   "name": "python3"
  },
  "language_info": {
   "codemirror_mode": {
    "name": "ipython",
    "version": 3
   },
   "file_extension": ".py",
   "mimetype": "text/x-python",
   "name": "python",
   "nbconvert_exporter": "python",
   "pygments_lexer": "ipython3",
   "version": "3.8.6"
  },
  "toc": {
   "base_numbering": 1,
   "nav_menu": {},
   "number_sections": true,
   "sideBar": true,
   "skip_h1_title": false,
   "title_cell": "Table of Contents",
   "title_sidebar": "Contents",
   "toc_cell": false,
   "toc_position": {},
   "toc_section_display": true,
   "toc_window_display": false
  }
 },
 "nbformat": 4,
 "nbformat_minor": 5
}
